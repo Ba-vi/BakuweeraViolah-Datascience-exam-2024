{
 "cells": [
  {
   "cell_type": "markdown",
   "metadata": {},
   "source": [
    "# 2024/DSC/0026/SS"
   ]
  },
  {
   "cell_type": "code",
   "execution_count": 1,
   "metadata": {},
   "outputs": [],
   "source": [
    "import pandas as pd  # importing pandas into my jupyter notebook environment.\n",
    "import numpy as np   # importing the numpy into my jupyter notebook environment.\n",
    "import matplotlib.pyplot as plt # importing matplotlib into my jupyter notebook environment."
   ]
  },
  {
   "cell_type": "markdown",
   "metadata": {},
   "source": [
    "# QUESTION ONE"
   ]
  },
  {
   "cell_type": "markdown",
   "metadata": {},
   "source": [
    "# install openpyxl module using the command pip install openpyxl in the command prompt."
   ]
  },
  {
   "cell_type": "code",
   "execution_count": 2,
   "metadata": {},
   "outputs": [
    {
     "data": {
      "text/html": [
       "<div>\n",
       "<style scoped>\n",
       "    .dataframe tbody tr th:only-of-type {\n",
       "        vertical-align: middle;\n",
       "    }\n",
       "\n",
       "    .dataframe tbody tr th {\n",
       "        vertical-align: top;\n",
       "    }\n",
       "\n",
       "    .dataframe thead th {\n",
       "        text-align: right;\n",
       "    }\n",
       "</style>\n",
       "<table border=\"1\" class=\"dataframe\">\n",
       "  <thead>\n",
       "    <tr style=\"text-align: right;\">\n",
       "      <th></th>\n",
       "      <th>Age</th>\n",
       "      <th>Sex</th>\n",
       "      <th>Marital_status</th>\n",
       "      <th>Number_of_children</th>\n",
       "      <th>Family_size</th>\n",
       "      <th>Education-degree_recode</th>\n",
       "      <th>Education-degree_recode 2</th>\n",
       "      <th>Education</th>\n",
       "      <th>Race_ethnicity-multi_recode</th>\n",
       "      <th>Immigrate-year</th>\n",
       "      <th>Birthplace_recode</th>\n",
       "      <th>Speaks_English</th>\n",
       "      <th>Employment_status</th>\n",
       "      <th>Income-wages</th>\n",
       "      <th>Region_recode</th>\n",
       "      <th>Region-division_recode</th>\n",
       "      <th>Moved</th>\n",
       "      <th>Year</th>\n",
       "      <th>state</th>\n",
       "    </tr>\n",
       "  </thead>\n",
       "  <tbody>\n",
       "    <tr>\n",
       "      <th>0</th>\n",
       "      <td>30</td>\n",
       "      <td>Male</td>\n",
       "      <td>Married, spouse present</td>\n",
       "      <td>2</td>\n",
       "      <td>4</td>\n",
       "      <td>Masterâ€™s or professional degree</td>\n",
       "      <td>Master or professional degree</td>\n",
       "      <td>Master or PhD or professional degree</td>\n",
       "      <td>Non-Hispanic White</td>\n",
       "      <td>0</td>\n",
       "      <td>U.S. state, territory, or outlying region</td>\n",
       "      <td>Yes, speaks only English</td>\n",
       "      <td>Employed</td>\n",
       "      <td>63000</td>\n",
       "      <td>South</td>\n",
       "      <td>East South Central</td>\n",
       "      <td>Same house</td>\n",
       "      <td>2020</td>\n",
       "      <td>Tennessee</td>\n",
       "    </tr>\n",
       "    <tr>\n",
       "      <th>1</th>\n",
       "      <td>28</td>\n",
       "      <td>Female</td>\n",
       "      <td>Married, spouse present</td>\n",
       "      <td>1 child present</td>\n",
       "      <td>3</td>\n",
       "      <td>Masterâ€™s or professional degree</td>\n",
       "      <td>Master or professional degree</td>\n",
       "      <td>Master or PhD or professional degree</td>\n",
       "      <td>Non-Hispanic White</td>\n",
       "      <td>0</td>\n",
       "      <td>U.S. state, territory, or outlying region</td>\n",
       "      <td>Yes, speaks only English</td>\n",
       "      <td>Employed</td>\n",
       "      <td>46000</td>\n",
       "      <td>South</td>\n",
       "      <td>East South Central</td>\n",
       "      <td>Same house</td>\n",
       "      <td>2020</td>\n",
       "      <td>Tennessee</td>\n",
       "    </tr>\n",
       "    <tr>\n",
       "      <th>2</th>\n",
       "      <td>34</td>\n",
       "      <td>Male</td>\n",
       "      <td>Married, spouse present</td>\n",
       "      <td>1 child present</td>\n",
       "      <td>3</td>\n",
       "      <td>Bachelorâ€™s degree</td>\n",
       "      <td>Bachelor degree</td>\n",
       "      <td>Associate or Bachelor degree</td>\n",
       "      <td>Non-Hispanic White</td>\n",
       "      <td>0</td>\n",
       "      <td>U.S. state, territory, or outlying region</td>\n",
       "      <td>Yes, speaks only English</td>\n",
       "      <td>Employed</td>\n",
       "      <td>45000</td>\n",
       "      <td>South</td>\n",
       "      <td>East South Central</td>\n",
       "      <td>Same house</td>\n",
       "      <td>2020</td>\n",
       "      <td>Tennessee</td>\n",
       "    </tr>\n",
       "    <tr>\n",
       "      <th>3</th>\n",
       "      <td>58</td>\n",
       "      <td>Female</td>\n",
       "      <td>Married, spouse absent</td>\n",
       "      <td>1 child present</td>\n",
       "      <td>2</td>\n",
       "      <td>1 or more years of college, no degree</td>\n",
       "      <td>1 or more years of college, no degree</td>\n",
       "      <td>1 or more years of college, no degree</td>\n",
       "      <td>Non-Hispanic White</td>\n",
       "      <td>0</td>\n",
       "      <td>U.S. state, territory, or outlying region</td>\n",
       "      <td>Yes, speaks only English</td>\n",
       "      <td>Employed</td>\n",
       "      <td>55000</td>\n",
       "      <td>South</td>\n",
       "      <td>East South Central</td>\n",
       "      <td>Same house</td>\n",
       "      <td>2020</td>\n",
       "      <td>Tennessee</td>\n",
       "    </tr>\n",
       "    <tr>\n",
       "      <th>4</th>\n",
       "      <td>39</td>\n",
       "      <td>Male</td>\n",
       "      <td>Never married/single</td>\n",
       "      <td>0 children present</td>\n",
       "      <td>1</td>\n",
       "      <td>Bachelorâ€™s degree</td>\n",
       "      <td>Bachelor degree</td>\n",
       "      <td>Associate or Bachelor degree</td>\n",
       "      <td>Non-Hispanic White</td>\n",
       "      <td>0</td>\n",
       "      <td>U.S. state, territory, or outlying region</td>\n",
       "      <td>Yes, speaks only English</td>\n",
       "      <td>Employed</td>\n",
       "      <td>12000</td>\n",
       "      <td>South</td>\n",
       "      <td>East South Central</td>\n",
       "      <td>Same house</td>\n",
       "      <td>2020</td>\n",
       "      <td>Tennessee</td>\n",
       "    </tr>\n",
       "    <tr>\n",
       "      <th>...</th>\n",
       "      <td>...</td>\n",
       "      <td>...</td>\n",
       "      <td>...</td>\n",
       "      <td>...</td>\n",
       "      <td>...</td>\n",
       "      <td>...</td>\n",
       "      <td>...</td>\n",
       "      <td>...</td>\n",
       "      <td>...</td>\n",
       "      <td>...</td>\n",
       "      <td>...</td>\n",
       "      <td>...</td>\n",
       "      <td>...</td>\n",
       "      <td>...</td>\n",
       "      <td>...</td>\n",
       "      <td>...</td>\n",
       "      <td>...</td>\n",
       "      <td>...</td>\n",
       "      <td>...</td>\n",
       "    </tr>\n",
       "    <tr>\n",
       "      <th>4360</th>\n",
       "      <td>67</td>\n",
       "      <td>Male</td>\n",
       "      <td>Married, spouse present</td>\n",
       "      <td>0 children present</td>\n",
       "      <td>2</td>\n",
       "      <td>Bachelorâ€™s degree</td>\n",
       "      <td>Bachelor degree</td>\n",
       "      <td>Associate or Bachelor degree</td>\n",
       "      <td>Non-Hispanic White</td>\n",
       "      <td>0</td>\n",
       "      <td>U.S. state, territory, or outlying region</td>\n",
       "      <td>Yes, speaks only English</td>\n",
       "      <td>Employed</td>\n",
       "      <td>40000</td>\n",
       "      <td>Midwest</td>\n",
       "      <td>West North Central</td>\n",
       "      <td>Same house</td>\n",
       "      <td>2020</td>\n",
       "      <td>North Dakota</td>\n",
       "    </tr>\n",
       "    <tr>\n",
       "      <th>4361</th>\n",
       "      <td>48</td>\n",
       "      <td>Male</td>\n",
       "      <td>Married, spouse present</td>\n",
       "      <td>4</td>\n",
       "      <td>6</td>\n",
       "      <td>Associateâ€™s degree</td>\n",
       "      <td>Associate degree</td>\n",
       "      <td>Associate or Bachelor degree</td>\n",
       "      <td>Non-Hispanic White</td>\n",
       "      <td>0</td>\n",
       "      <td>U.S. state, territory, or outlying region</td>\n",
       "      <td>Yes, speaks only English</td>\n",
       "      <td>Employed</td>\n",
       "      <td>65000</td>\n",
       "      <td>Midwest</td>\n",
       "      <td>West North Central</td>\n",
       "      <td>Same house</td>\n",
       "      <td>2020</td>\n",
       "      <td>North Dakota</td>\n",
       "    </tr>\n",
       "    <tr>\n",
       "      <th>4362</th>\n",
       "      <td>33</td>\n",
       "      <td>Male</td>\n",
       "      <td>Married, spouse absent</td>\n",
       "      <td>0 children present</td>\n",
       "      <td>1</td>\n",
       "      <td>Associateâ€™s degree</td>\n",
       "      <td>Associate degree</td>\n",
       "      <td>Associate or Bachelor degree</td>\n",
       "      <td>Non-Hispanic Black</td>\n",
       "      <td>2017</td>\n",
       "      <td>Africa</td>\n",
       "      <td>Yes, speaks very well</td>\n",
       "      <td>Employed</td>\n",
       "      <td>45000</td>\n",
       "      <td>Midwest</td>\n",
       "      <td>West North Central</td>\n",
       "      <td>Same house</td>\n",
       "      <td>2020</td>\n",
       "      <td>North Dakota</td>\n",
       "    </tr>\n",
       "    <tr>\n",
       "      <th>4363</th>\n",
       "      <td>22</td>\n",
       "      <td>Female</td>\n",
       "      <td>Never married/single</td>\n",
       "      <td>0 children present</td>\n",
       "      <td>2</td>\n",
       "      <td>1 or more years of college, no degree</td>\n",
       "      <td>1 or more years of college, no degree</td>\n",
       "      <td>1 or more years of college, no degree</td>\n",
       "      <td>Non-Hispanic White</td>\n",
       "      <td>0</td>\n",
       "      <td>U.S. state, territory, or outlying region</td>\n",
       "      <td>Yes, speaks only English</td>\n",
       "      <td>Employed</td>\n",
       "      <td>500</td>\n",
       "      <td>Midwest</td>\n",
       "      <td>West North Central</td>\n",
       "      <td>Same house</td>\n",
       "      <td>2020</td>\n",
       "      <td>North Dakota</td>\n",
       "    </tr>\n",
       "    <tr>\n",
       "      <th>4364</th>\n",
       "      <td>49</td>\n",
       "      <td>Female</td>\n",
       "      <td>Married, spouse present</td>\n",
       "      <td>2</td>\n",
       "      <td>4</td>\n",
       "      <td>Masterâ€™s or professional degree</td>\n",
       "      <td>Master or professional degree</td>\n",
       "      <td>Master or PhD or professional degree</td>\n",
       "      <td>Non-Hispanic White</td>\n",
       "      <td>0</td>\n",
       "      <td>U.S. state, territory, or outlying region</td>\n",
       "      <td>Yes, speaks only English</td>\n",
       "      <td>Employed</td>\n",
       "      <td>498000</td>\n",
       "      <td>Midwest</td>\n",
       "      <td>West North Central</td>\n",
       "      <td>Same house</td>\n",
       "      <td>2020</td>\n",
       "      <td>North Dakota</td>\n",
       "    </tr>\n",
       "  </tbody>\n",
       "</table>\n",
       "<p>4365 rows × 19 columns</p>\n",
       "</div>"
      ],
      "text/plain": [
       "      Age     Sex           Marital_status  Number_of_children  Family_size  \\\n",
       "0      30    Male  Married, spouse present                   2            4   \n",
       "1      28  Female  Married, spouse present     1 child present            3   \n",
       "2      34    Male  Married, spouse present     1 child present            3   \n",
       "3      58  Female   Married, spouse absent     1 child present            2   \n",
       "4      39    Male     Never married/single  0 children present            1   \n",
       "...   ...     ...                      ...                 ...          ...   \n",
       "4360   67    Male  Married, spouse present  0 children present            2   \n",
       "4361   48    Male  Married, spouse present                   4            6   \n",
       "4362   33    Male   Married, spouse absent  0 children present            1   \n",
       "4363   22  Female     Never married/single  0 children present            2   \n",
       "4364   49  Female  Married, spouse present                   2            4   \n",
       "\n",
       "                    Education-degree_recode  \\\n",
       "0         Masterâ€™s or professional degree   \n",
       "1         Masterâ€™s or professional degree   \n",
       "2                       Bachelorâ€™s degree   \n",
       "3     1 or more years of college, no degree   \n",
       "4                       Bachelorâ€™s degree   \n",
       "...                                     ...   \n",
       "4360                    Bachelorâ€™s degree   \n",
       "4361                   Associateâ€™s degree   \n",
       "4362                   Associateâ€™s degree   \n",
       "4363  1 or more years of college, no degree   \n",
       "4364      Masterâ€™s or professional degree   \n",
       "\n",
       "                  Education-degree_recode 2  \\\n",
       "0             Master or professional degree   \n",
       "1             Master or professional degree   \n",
       "2                           Bachelor degree   \n",
       "3     1 or more years of college, no degree   \n",
       "4                           Bachelor degree   \n",
       "...                                     ...   \n",
       "4360                        Bachelor degree   \n",
       "4361                       Associate degree   \n",
       "4362                       Associate degree   \n",
       "4363  1 or more years of college, no degree   \n",
       "4364          Master or professional degree   \n",
       "\n",
       "                                  Education Race_ethnicity-multi_recode  \\\n",
       "0      Master or PhD or professional degree          Non-Hispanic White   \n",
       "1      Master or PhD or professional degree          Non-Hispanic White   \n",
       "2              Associate or Bachelor degree          Non-Hispanic White   \n",
       "3     1 or more years of college, no degree          Non-Hispanic White   \n",
       "4              Associate or Bachelor degree          Non-Hispanic White   \n",
       "...                                     ...                         ...   \n",
       "4360           Associate or Bachelor degree          Non-Hispanic White   \n",
       "4361           Associate or Bachelor degree          Non-Hispanic White   \n",
       "4362           Associate or Bachelor degree          Non-Hispanic Black   \n",
       "4363  1 or more years of college, no degree          Non-Hispanic White   \n",
       "4364   Master or PhD or professional degree          Non-Hispanic White   \n",
       "\n",
       "      Immigrate-year                          Birthplace_recode  \\\n",
       "0                  0  U.S. state, territory, or outlying region   \n",
       "1                  0  U.S. state, territory, or outlying region   \n",
       "2                  0  U.S. state, territory, or outlying region   \n",
       "3                  0  U.S. state, territory, or outlying region   \n",
       "4                  0  U.S. state, territory, or outlying region   \n",
       "...              ...                                        ...   \n",
       "4360               0  U.S. state, territory, or outlying region   \n",
       "4361               0  U.S. state, territory, or outlying region   \n",
       "4362            2017                                     Africa   \n",
       "4363               0  U.S. state, territory, or outlying region   \n",
       "4364               0  U.S. state, territory, or outlying region   \n",
       "\n",
       "                Speaks_English Employment_status  Income-wages Region_recode  \\\n",
       "0     Yes, speaks only English          Employed         63000         South   \n",
       "1     Yes, speaks only English          Employed         46000         South   \n",
       "2     Yes, speaks only English          Employed         45000         South   \n",
       "3     Yes, speaks only English          Employed         55000         South   \n",
       "4     Yes, speaks only English          Employed         12000         South   \n",
       "...                        ...               ...           ...           ...   \n",
       "4360  Yes, speaks only English          Employed         40000       Midwest   \n",
       "4361  Yes, speaks only English          Employed         65000       Midwest   \n",
       "4362     Yes, speaks very well          Employed         45000       Midwest   \n",
       "4363  Yes, speaks only English          Employed           500       Midwest   \n",
       "4364  Yes, speaks only English          Employed        498000       Midwest   \n",
       "\n",
       "     Region-division_recode       Moved  Year         state  \n",
       "0        East South Central  Same house  2020     Tennessee  \n",
       "1        East South Central  Same house  2020     Tennessee  \n",
       "2        East South Central  Same house  2020     Tennessee  \n",
       "3        East South Central  Same house  2020     Tennessee  \n",
       "4        East South Central  Same house  2020     Tennessee  \n",
       "...                     ...         ...   ...           ...  \n",
       "4360     West North Central  Same house  2020  North Dakota  \n",
       "4361     West North Central  Same house  2020  North Dakota  \n",
       "4362     West North Central  Same house  2020  North Dakota  \n",
       "4363     West North Central  Same house  2020  North Dakota  \n",
       "4364     West North Central  Same house  2020  North Dakota  \n",
       "\n",
       "[4365 rows x 19 columns]"
      ]
     },
     "execution_count": 2,
     "metadata": {},
     "output_type": "execute_result"
    }
   ],
   "source": [
    "wage_df = pd.read_excel(\"Wages 2020Census cleaned.xlsx\")# The dataset is successfully imported after installing openpyxl\n",
    "wage_df   #openpyxl module allows reading and modification of  Excel files.\n",
    "#https://www.geeksforgeeks.org/python-reading-excel-file-using-openpyxl-module/"
   ]
  },
  {
   "cell_type": "markdown",
   "metadata": {},
   "source": [
    "# exploring the dataset"
   ]
  },
  {
   "cell_type": "code",
   "execution_count": 3,
   "metadata": {},
   "outputs": [
    {
     "name": "stdout",
     "output_type": "stream",
     "text": [
      "<class 'pandas.core.frame.DataFrame'>\n",
      "RangeIndex: 4365 entries, 0 to 4364\n",
      "Data columns (total 19 columns):\n",
      " #   Column                       Non-Null Count  Dtype \n",
      "---  ------                       --------------  ----- \n",
      " 0   Age                          4365 non-null   int64 \n",
      " 1   Sex                          4365 non-null   object\n",
      " 2   Marital_status               4365 non-null   object\n",
      " 3   Number_of_children           4365 non-null   object\n",
      " 4   Family_size                  4365 non-null   int64 \n",
      " 5   Education-degree_recode      4365 non-null   object\n",
      " 6   Education-degree_recode 2    4365 non-null   object\n",
      " 7   Education                    4365 non-null   object\n",
      " 8   Race_ethnicity-multi_recode  4365 non-null   object\n",
      " 9   Immigrate-year               4365 non-null   int64 \n",
      " 10  Birthplace_recode            4365 non-null   object\n",
      " 11  Speaks_English               4365 non-null   object\n",
      " 12  Employment_status            4365 non-null   object\n",
      " 13  Income-wages                 4365 non-null   int64 \n",
      " 14  Region_recode                4365 non-null   object\n",
      " 15  Region-division_recode       4365 non-null   object\n",
      " 16  Moved                        4365 non-null   object\n",
      " 17  Year                         4365 non-null   int64 \n",
      " 18  state                        4365 non-null   object\n",
      "dtypes: int64(5), object(14)\n",
      "memory usage: 648.1+ KB\n"
     ]
    }
   ],
   "source": [
    "wage_df.info() "
   ]
  },
  {
   "cell_type": "markdown",
   "metadata": {},
   "source": []
  },
  {
   "cell_type": "code",
   "execution_count": 4,
   "metadata": {},
   "outputs": [
    {
     "data": {
      "text/html": [
       "<div>\n",
       "<style scoped>\n",
       "    .dataframe tbody tr th:only-of-type {\n",
       "        vertical-align: middle;\n",
       "    }\n",
       "\n",
       "    .dataframe tbody tr th {\n",
       "        vertical-align: top;\n",
       "    }\n",
       "\n",
       "    .dataframe thead th {\n",
       "        text-align: right;\n",
       "    }\n",
       "</style>\n",
       "<table border=\"1\" class=\"dataframe\">\n",
       "  <thead>\n",
       "    <tr style=\"text-align: right;\">\n",
       "      <th></th>\n",
       "      <th>Age</th>\n",
       "      <th>Family_size</th>\n",
       "      <th>Immigrate-year</th>\n",
       "      <th>Income-wages</th>\n",
       "      <th>Year</th>\n",
       "    </tr>\n",
       "  </thead>\n",
       "  <tbody>\n",
       "    <tr>\n",
       "      <th>count</th>\n",
       "      <td>4365.000000</td>\n",
       "      <td>4365.000000</td>\n",
       "      <td>4365.000000</td>\n",
       "      <td>4365.000000</td>\n",
       "      <td>4365.0</td>\n",
       "    </tr>\n",
       "    <tr>\n",
       "      <th>mean</th>\n",
       "      <td>41.688889</td>\n",
       "      <td>2.964490</td>\n",
       "      <td>360.903551</td>\n",
       "      <td>58704.164948</td>\n",
       "      <td>2020.0</td>\n",
       "    </tr>\n",
       "    <tr>\n",
       "      <th>std</th>\n",
       "      <td>14.287954</td>\n",
       "      <td>1.603552</td>\n",
       "      <td>769.040850</td>\n",
       "      <td>68338.061435</td>\n",
       "      <td>0.0</td>\n",
       "    </tr>\n",
       "    <tr>\n",
       "      <th>min</th>\n",
       "      <td>16.000000</td>\n",
       "      <td>1.000000</td>\n",
       "      <td>0.000000</td>\n",
       "      <td>30.000000</td>\n",
       "      <td>2020.0</td>\n",
       "    </tr>\n",
       "    <tr>\n",
       "      <th>25%</th>\n",
       "      <td>30.000000</td>\n",
       "      <td>2.000000</td>\n",
       "      <td>0.000000</td>\n",
       "      <td>22000.000000</td>\n",
       "      <td>2020.0</td>\n",
       "    </tr>\n",
       "    <tr>\n",
       "      <th>50%</th>\n",
       "      <td>41.000000</td>\n",
       "      <td>3.000000</td>\n",
       "      <td>0.000000</td>\n",
       "      <td>41000.000000</td>\n",
       "      <td>2020.0</td>\n",
       "    </tr>\n",
       "    <tr>\n",
       "      <th>75%</th>\n",
       "      <td>53.000000</td>\n",
       "      <td>4.000000</td>\n",
       "      <td>0.000000</td>\n",
       "      <td>71000.000000</td>\n",
       "      <td>2020.0</td>\n",
       "    </tr>\n",
       "    <tr>\n",
       "      <th>max</th>\n",
       "      <td>87.000000</td>\n",
       "      <td>14.000000</td>\n",
       "      <td>2020.000000</td>\n",
       "      <td>661000.000000</td>\n",
       "      <td>2020.0</td>\n",
       "    </tr>\n",
       "  </tbody>\n",
       "</table>\n",
       "</div>"
      ],
      "text/plain": [
       "               Age  Family_size  Immigrate-year   Income-wages    Year\n",
       "count  4365.000000  4365.000000     4365.000000    4365.000000  4365.0\n",
       "mean     41.688889     2.964490      360.903551   58704.164948  2020.0\n",
       "std      14.287954     1.603552      769.040850   68338.061435     0.0\n",
       "min      16.000000     1.000000        0.000000      30.000000  2020.0\n",
       "25%      30.000000     2.000000        0.000000   22000.000000  2020.0\n",
       "50%      41.000000     3.000000        0.000000   41000.000000  2020.0\n",
       "75%      53.000000     4.000000        0.000000   71000.000000  2020.0\n",
       "max      87.000000    14.000000     2020.000000  661000.000000  2020.0"
      ]
     },
     "execution_count": 4,
     "metadata": {},
     "output_type": "execute_result"
    }
   ],
   "source": [
    "wage_df.describe() # summarizing all the information within our data set."
   ]
  },
  {
   "cell_type": "markdown",
   "metadata": {},
   "source": [
    "# Typical yearly income"
   ]
  },
  {
   "cell_type": "code",
   "execution_count": 5,
   "metadata": {},
   "outputs": [
    {
     "data": {
      "text/plain": [
       "np.int64(256243680)"
      ]
     },
     "execution_count": 5,
     "metadata": {},
     "output_type": "execute_result"
    }
   ],
   "source": [
    "total_income = wage_df[\"Income-wages\"].sum() # finding the total sum of the income wages.\n",
    "total_income"
   ]
  },
  {
   "cell_type": "code",
   "execution_count": 6,
   "metadata": {},
   "outputs": [
    {
     "data": {
      "text/plain": [
       "np.int64(256243680)"
      ]
     },
     "execution_count": 6,
     "metadata": {},
     "output_type": "execute_result"
    }
   ],
   "source": [
    "mode_income = wage_df[\"Income-wages\"].sum() # finding the income wage that appears most within the year.\n",
    "mode_income"
   ]
  },
  {
   "cell_type": "code",
   "execution_count": 7,
   "metadata": {},
   "outputs": [
    {
     "data": {
      "text/plain": [
       "np.float64(58704.16494845361)"
      ]
     },
     "execution_count": 7,
     "metadata": {},
     "output_type": "execute_result"
    }
   ],
   "source": [
    "mean_income = wage_df[\"Income-wages\"].mean() # finding the mean of the income wages in the year.\n",
    "mean_income"
   ]
  },
  {
   "cell_type": "code",
   "execution_count": 8,
   "metadata": {},
   "outputs": [
    {
     "data": {
      "text/plain": [
       "np.float64(68338.0614351565)"
      ]
     },
     "execution_count": 8,
     "metadata": {},
     "output_type": "execute_result"
    }
   ],
   "source": [
    "std_income= wage_df[\"Income-wages\"].std() # finding the standard deviation of the income\n",
    "std_income"
   ]
  },
  {
   "cell_type": "markdown",
   "metadata": {},
   "source": [
    "# b Do the yearly incomes vary?\n",
    "since this question is asking about variation of the income ,a histogram maybe helpful to check if the incomes vary.We can  choose two categories from the data set to use during our visualization  and for this case, we are going to focus on the Income-wages and the years"
   ]
  },
  {
   "cell_type": "code",
   "execution_count": 9,
   "metadata": {},
   "outputs": [],
   "source": [
    "import seaborn as sns # this is a tool for data visualization.\n",
    "# reference  class lectures."
   ]
  },
  {
   "cell_type": "code",
   "execution_count": 10,
   "metadata": {},
   "outputs": [
    {
     "data": {
      "text/plain": [
       "<function matplotlib.pyplot.show(close=None, block=None)>"
      ]
     },
     "execution_count": 10,
     "metadata": {},
     "output_type": "execute_result"
    },
    {
     "data": {
      "image/png": "[encoded data removed]",
      "text/plain": [
       "<Figure size 640x480 with 1 Axes>"
      ]
     },
     "metadata": {},
     "output_type": "display_data"
    }
   ],
   "source": [
    "sns.histplot(data= wage_df,x=\"Year\",y=\"Income-wages\",label=\"Histogram\") # Reference to what we studied in class.\n",
    "plt.title(\"A histogram showing Income wages against year\")\n",
    "plt.xlabel(\"year\")\n",
    "plt.ylabel(\"Income-wages\")\n",
    "plt.show\n"
   ]
  },
  {
   "cell_type": "markdown",
   "metadata": {},
   "source": [
    "due to the different changes in the income levels in the year  ,there is an indication of variation of the incomes due to the difference in the thickness of the color shades in our histogram"
   ]
  },
  {
   "cell_type": "markdown",
   "metadata": {},
   "source": [
    "# c What would the values of the standard deviation and IQR be if there was no variability in yearly income for these 4,365 people?"
   ]
  },
  {
   "cell_type": "code",
   "execution_count": 11,
   "metadata": {},
   "outputs": [
    {
     "data": {
      "text/plain": [
       "np.float64(68338.0614351565)"
      ]
     },
     "execution_count": 11,
     "metadata": {},
     "output_type": "execute_result"
    }
   ],
   "source": [
    "std_income = wage_df[\"Income-wages\"].std()\n",
    "std_income"
   ]
  },
  {
   "cell_type": "code",
   "execution_count": 12,
   "metadata": {},
   "outputs": [
    {
     "data": {
      "text/plain": [
       "np.float64(58704.16494845361)"
      ]
     },
     "execution_count": 12,
     "metadata": {},
     "output_type": "execute_result"
    }
   ],
   "source": [
    "mean_income = wage_df[\"Income-wages\"].mean()\n",
    "mean_income\n"
   ]
  },
  {
   "cell_type": "markdown",
   "metadata": {},
   "source": [
    "\n",
    "An interquartile range  .https://stackoverflow.com/questions/73324438/welfords-online-variance-algorithm-but-for-interquartile-range"
   ]
  },
  {
   "cell_type": "markdown",
   "metadata": {},
   "source": [
    " If there was no variability we wouldnot have values for standard deviation and the IQR (interquartile range)since it is  to the mean https://en.wikipedia.org/wiki/Standard_deviation."
   ]
  },
  {
   "cell_type": "markdown",
   "metadata": {},
   "source": [
    "# question one d"
   ]
  },
  {
   "cell_type": "markdown",
   "metadata": {},
   "source": [
    "If there is no variability in the yearly incomes,I think  the mean, median, Q1, Q3, minimum, and maximum values will all be the same and equal to the income of any individual in the dataset."
   ]
  },
  {
   "cell_type": "markdown",
   "metadata": {},
   "source": [
    "# question e"
   ]
  },
  {
   "cell_type": "markdown",
   "metadata": {},
   "source": [
    "1.The education level: A person at higher level of education is likely to get a higher Income wage compared to the one at low education level.\n",
    "\n",
    "2.A person with a big a family size is likely to get a higher wage compared to the one with a small size because the one with a big family size will have to spend alot compared to the one with a small size keeping other factors constant.\n",
    "3.The state the person is living in : some states have low taxes imposed on people's incomes compared to other states which can easily influence one's income-wage levels"
   ]
  },
  {
   "cell_type": "code",
   "execution_count": 13,
   "metadata": {},
   "outputs": [],
   "source": [
    "import matplotlib.pyplot as plt\n",
    "import seaborn as sns"
   ]
  },
  {
   "cell_type": "code",
   "execution_count": 14,
   "metadata": {},
   "outputs": [
    {
     "data": {
      "image/png": "[encoded data removed]",
      "text/plain": [
       "<Figure size 640x480 with 1 Axes>"
      ]
     },
     "metadata": {},
     "output_type": "display_data"
    }
   ],
   "source": [
    "\n",
    "sns.boxplot( x=\"Education\" , y=\"Income-wages\" ,data = wage_df,)\n",
    "plt.title('A boxplot of Income-wages against Education.')\n",
    "plt.xlabel('Education')\n",
    "plt.ylabel('Incoome-wages')\n",
    "plt.show()"
   ]
  },
  {
   "cell_type": "markdown",
   "metadata": {},
   "source": [
    "# QUESTION 2"
   ]
  },
  {
   "cell_type": "code",
   "execution_count": 15,
   "metadata": {},
   "outputs": [],
   "source": [
    "# Having imported all our necessary libraries. we import our data set into our environment. "
   ]
  },
  {
   "cell_type": "code",
   "execution_count": 16,
   "metadata": {},
   "outputs": [
    {
     "data": {
      "text/html": [
       "<div>\n",
       "<style scoped>\n",
       "    .dataframe tbody tr th:only-of-type {\n",
       "        vertical-align: middle;\n",
       "    }\n",
       "\n",
       "    .dataframe tbody tr th {\n",
       "        vertical-align: top;\n",
       "    }\n",
       "\n",
       "    .dataframe thead th {\n",
       "        text-align: right;\n",
       "    }\n",
       "</style>\n",
       "<table border=\"1\" class=\"dataframe\">\n",
       "  <thead>\n",
       "    <tr style=\"text-align: right;\">\n",
       "      <th></th>\n",
       "      <th>StudentID</th>\n",
       "      <th>Gender</th>\n",
       "      <th>Age</th>\n",
       "      <th>StudyHoursPerWeek</th>\n",
       "      <th>AttendanceRate</th>\n",
       "      <th>GPA</th>\n",
       "      <th>Major</th>\n",
       "      <th>PartTimeJob</th>\n",
       "      <th>ExtraCurricularActivities</th>\n",
       "    </tr>\n",
       "  </thead>\n",
       "  <tbody>\n",
       "    <tr>\n",
       "      <th>0</th>\n",
       "      <td>1</td>\n",
       "      <td>Male</td>\n",
       "      <td>24</td>\n",
       "      <td>37</td>\n",
       "      <td>90.75</td>\n",
       "      <td>3.47</td>\n",
       "      <td>Arts</td>\n",
       "      <td>Yes</td>\n",
       "      <td>No</td>\n",
       "    </tr>\n",
       "    <tr>\n",
       "      <th>1</th>\n",
       "      <td>2</td>\n",
       "      <td>Female</td>\n",
       "      <td>22</td>\n",
       "      <td>37</td>\n",
       "      <td>74.90</td>\n",
       "      <td>2.32</td>\n",
       "      <td>Education</td>\n",
       "      <td>No</td>\n",
       "      <td>No</td>\n",
       "    </tr>\n",
       "    <tr>\n",
       "      <th>2</th>\n",
       "      <td>3</td>\n",
       "      <td>Male</td>\n",
       "      <td>22</td>\n",
       "      <td>10</td>\n",
       "      <td>53.36</td>\n",
       "      <td>2.38</td>\n",
       "      <td>Business</td>\n",
       "      <td>No</td>\n",
       "      <td>No</td>\n",
       "    </tr>\n",
       "    <tr>\n",
       "      <th>3</th>\n",
       "      <td>4</td>\n",
       "      <td>Male</td>\n",
       "      <td>24</td>\n",
       "      <td>10</td>\n",
       "      <td>70.26</td>\n",
       "      <td>3.46</td>\n",
       "      <td>Science</td>\n",
       "      <td>Yes</td>\n",
       "      <td>No</td>\n",
       "    </tr>\n",
       "    <tr>\n",
       "      <th>4</th>\n",
       "      <td>5</td>\n",
       "      <td>Male</td>\n",
       "      <td>18</td>\n",
       "      <td>19</td>\n",
       "      <td>74.87</td>\n",
       "      <td>2.31</td>\n",
       "      <td>Education</td>\n",
       "      <td>Yes</td>\n",
       "      <td>No</td>\n",
       "    </tr>\n",
       "    <tr>\n",
       "      <th>...</th>\n",
       "      <td>...</td>\n",
       "      <td>...</td>\n",
       "      <td>...</td>\n",
       "      <td>...</td>\n",
       "      <td>...</td>\n",
       "      <td>...</td>\n",
       "      <td>...</td>\n",
       "      <td>...</td>\n",
       "      <td>...</td>\n",
       "    </tr>\n",
       "    <tr>\n",
       "      <th>495</th>\n",
       "      <td>496</td>\n",
       "      <td>Male</td>\n",
       "      <td>22</td>\n",
       "      <td>37</td>\n",
       "      <td>76.61</td>\n",
       "      <td>2.97</td>\n",
       "      <td>Science</td>\n",
       "      <td>No</td>\n",
       "      <td>No</td>\n",
       "    </tr>\n",
       "    <tr>\n",
       "      <th>496</th>\n",
       "      <td>497</td>\n",
       "      <td>Male</td>\n",
       "      <td>23</td>\n",
       "      <td>11</td>\n",
       "      <td>56.29</td>\n",
       "      <td>3.20</td>\n",
       "      <td>Science</td>\n",
       "      <td>No</td>\n",
       "      <td>No</td>\n",
       "    </tr>\n",
       "    <tr>\n",
       "      <th>497</th>\n",
       "      <td>498</td>\n",
       "      <td>Female</td>\n",
       "      <td>20</td>\n",
       "      <td>6</td>\n",
       "      <td>56.64</td>\n",
       "      <td>3.20</td>\n",
       "      <td>Science</td>\n",
       "      <td>No</td>\n",
       "      <td>Yes</td>\n",
       "    </tr>\n",
       "    <tr>\n",
       "      <th>498</th>\n",
       "      <td>499</td>\n",
       "      <td>Male</td>\n",
       "      <td>22</td>\n",
       "      <td>18</td>\n",
       "      <td>57.18</td>\n",
       "      <td>2.05</td>\n",
       "      <td>Business</td>\n",
       "      <td>No</td>\n",
       "      <td>Yes</td>\n",
       "    </tr>\n",
       "    <tr>\n",
       "      <th>499</th>\n",
       "      <td>500</td>\n",
       "      <td>Female</td>\n",
       "      <td>24</td>\n",
       "      <td>21</td>\n",
       "      <td>96.99</td>\n",
       "      <td>2.64</td>\n",
       "      <td>Engineering</td>\n",
       "      <td>No</td>\n",
       "      <td>No</td>\n",
       "    </tr>\n",
       "  </tbody>\n",
       "</table>\n",
       "<p>500 rows × 9 columns</p>\n",
       "</div>"
      ],
      "text/plain": [
       "     StudentID  Gender  Age  StudyHoursPerWeek  AttendanceRate   GPA  \\\n",
       "0            1    Male   24                 37           90.75  3.47   \n",
       "1            2  Female   22                 37           74.90  2.32   \n",
       "2            3    Male   22                 10           53.36  2.38   \n",
       "3            4    Male   24                 10           70.26  3.46   \n",
       "4            5    Male   18                 19           74.87  2.31   \n",
       "..         ...     ...  ...                ...             ...   ...   \n",
       "495        496    Male   22                 37           76.61  2.97   \n",
       "496        497    Male   23                 11           56.29  3.20   \n",
       "497        498  Female   20                  6           56.64  3.20   \n",
       "498        499    Male   22                 18           57.18  2.05   \n",
       "499        500  Female   24                 21           96.99  2.64   \n",
       "\n",
       "           Major PartTimeJob ExtraCurricularActivities  \n",
       "0           Arts         Yes                        No  \n",
       "1      Education          No                        No  \n",
       "2       Business          No                        No  \n",
       "3        Science         Yes                        No  \n",
       "4      Education         Yes                        No  \n",
       "..           ...         ...                       ...  \n",
       "495      Science          No                        No  \n",
       "496      Science          No                        No  \n",
       "497      Science          No                       Yes  \n",
       "498     Business          No                       Yes  \n",
       "499  Engineering          No                        No  \n",
       "\n",
       "[500 rows x 9 columns]"
      ]
     },
     "execution_count": 16,
     "metadata": {},
     "output_type": "execute_result"
    }
   ],
   "source": [
    "student_df= pd.read_csv(\"student_performance_data.csv\") # importing the student's data into my notebook environment\n",
    "student_df"
   ]
  },
  {
   "cell_type": "markdown",
   "metadata": {},
   "source": [
    "# a Gender with the highest total study Hours per week for each major"
   ]
  },
  {
   "cell_type": "code",
   "execution_count": 17,
   "metadata": {},
   "outputs": [
    {
     "data": {
      "text/html": [
       "<div>\n",
       "<style scoped>\n",
       "    .dataframe tbody tr th:only-of-type {\n",
       "        vertical-align: middle;\n",
       "    }\n",
       "\n",
       "    .dataframe tbody tr th {\n",
       "        vertical-align: top;\n",
       "    }\n",
       "\n",
       "    .dataframe thead th {\n",
       "        text-align: right;\n",
       "    }\n",
       "</style>\n",
       "<table border=\"1\" class=\"dataframe\">\n",
       "  <thead>\n",
       "    <tr style=\"text-align: right;\">\n",
       "      <th></th>\n",
       "      <th></th>\n",
       "      <th>StudentID</th>\n",
       "      <th>Age</th>\n",
       "      <th>StudyHoursPerWeek</th>\n",
       "      <th>AttendanceRate</th>\n",
       "      <th>GPA</th>\n",
       "      <th>PartTimeJob</th>\n",
       "      <th>ExtraCurricularActivities</th>\n",
       "    </tr>\n",
       "    <tr>\n",
       "      <th>Gender</th>\n",
       "      <th>Major</th>\n",
       "      <th></th>\n",
       "      <th></th>\n",
       "      <th></th>\n",
       "      <th></th>\n",
       "      <th></th>\n",
       "      <th></th>\n",
       "      <th></th>\n",
       "    </tr>\n",
       "  </thead>\n",
       "  <tbody>\n",
       "    <tr>\n",
       "      <th rowspan=\"5\" valign=\"top\">Female</th>\n",
       "      <th>Arts</th>\n",
       "      <td>13514</td>\n",
       "      <td>1126</td>\n",
       "      <td>1070</td>\n",
       "      <td>4151.75</td>\n",
       "      <td>163.25</td>\n",
       "      <td>YesYesNoYesNoNoNoNoNoYesYesYesYesYesYesYesYesY...</td>\n",
       "      <td>YesYesYesNoNoYesNoNoYesNoYesYesYesNoYesYesYesY...</td>\n",
       "    </tr>\n",
       "    <tr>\n",
       "      <th>Business</th>\n",
       "      <td>13569</td>\n",
       "      <td>1173</td>\n",
       "      <td>1229</td>\n",
       "      <td>4458.74</td>\n",
       "      <td>175.37</td>\n",
       "      <td>YesYesYesNoYesYesYesNoNoYesYesNoNoYesYesYesNoN...</td>\n",
       "      <td>NoYesNoNoNoNoNoNoYesNoYesNoYesNoYesNoYesNoNoNo...</td>\n",
       "    </tr>\n",
       "    <tr>\n",
       "      <th>Education</th>\n",
       "      <td>10391</td>\n",
       "      <td>847</td>\n",
       "      <td>818</td>\n",
       "      <td>3035.39</td>\n",
       "      <td>123.70</td>\n",
       "      <td>NoYesYesYesNoNoYesYesNoYesNoYesNoYesYesNoYesNo...</td>\n",
       "      <td>NoNoYesNoYesNoNoYesNoYesYesNoYesYesYesNoYesNoN...</td>\n",
       "    </tr>\n",
       "    <tr>\n",
       "      <th>Engineering</th>\n",
       "      <td>16962</td>\n",
       "      <td>1289</td>\n",
       "      <td>1196</td>\n",
       "      <td>4640.83</td>\n",
       "      <td>174.29</td>\n",
       "      <td>YesYesNoNoYesYesYesYesNoNoYesNoNoYesNoYesNoNoY...</td>\n",
       "      <td>YesYesYesNoNoNoYesYesYesYesYesYesYesNoYesNoYes...</td>\n",
       "    </tr>\n",
       "    <tr>\n",
       "      <th>Science</th>\n",
       "      <td>10066</td>\n",
       "      <td>889</td>\n",
       "      <td>813</td>\n",
       "      <td>3150.28</td>\n",
       "      <td>130.20</td>\n",
       "      <td>YesNoYesYesNoNoYesYesNoNoNoYesNoNoNoYesYesNoYe...</td>\n",
       "      <td>YesYesNoNoYesYesNoYesYesNoYesNoYesNoNoNoYesYes...</td>\n",
       "    </tr>\n",
       "    <tr>\n",
       "      <th rowspan=\"5\" valign=\"top\">Male</th>\n",
       "      <th>Arts</th>\n",
       "      <td>11946</td>\n",
       "      <td>951</td>\n",
       "      <td>881</td>\n",
       "      <td>3280.02</td>\n",
       "      <td>137.46</td>\n",
       "      <td>YesNoYesNoYesNoYesNoNoNoYesNoNoYesYesYesYesNoY...</td>\n",
       "      <td>NoNoNoYesYesYesNoNoNoYesNoYesYesNoYesNoNoNoYes...</td>\n",
       "    </tr>\n",
       "    <tr>\n",
       "      <th>Business</th>\n",
       "      <td>14198</td>\n",
       "      <td>1206</td>\n",
       "      <td>1130</td>\n",
       "      <td>4125.03</td>\n",
       "      <td>170.73</td>\n",
       "      <td>NoNoNoYesYesYesYesNoNoNoYesYesNoYesNoYesYesNoY...</td>\n",
       "      <td>NoNoNoNoNoYesYesYesYesYesNoYesYesYesYesYesYesN...</td>\n",
       "    </tr>\n",
       "    <tr>\n",
       "      <th>Education</th>\n",
       "      <td>14967</td>\n",
       "      <td>1177</td>\n",
       "      <td>1212</td>\n",
       "      <td>4335.17</td>\n",
       "      <td>161.37</td>\n",
       "      <td>YesNoNoNoNoYesNoNoNoNoYesYesYesYesYesNoYesNoYe...</td>\n",
       "      <td>NoNoYesYesNoYesYesNoNoNoNoYesNoYesNoYesNoNoNoN...</td>\n",
       "    </tr>\n",
       "    <tr>\n",
       "      <th>Engineering</th>\n",
       "      <td>11902</td>\n",
       "      <td>1022</td>\n",
       "      <td>929</td>\n",
       "      <td>3632.67</td>\n",
       "      <td>149.75</td>\n",
       "      <td>YesYesNoYesYesYesYesNoNoYesNoYesNoNoNoNoYesNoY...</td>\n",
       "      <td>NoNoNoYesYesNoYesNoNoNoYesYesNoYesNoNoNoNoNoYe...</td>\n",
       "    </tr>\n",
       "    <tr>\n",
       "      <th>Science</th>\n",
       "      <td>7735</td>\n",
       "      <td>798</td>\n",
       "      <td>660</td>\n",
       "      <td>2685.31</td>\n",
       "      <td>106.46</td>\n",
       "      <td>YesNoYesNoYesYesYesNoNoNoNoNoYesNoNoNoYesNoYes...</td>\n",
       "      <td>NoYesYesNoNoYesYesNoYesYesNoNoYesYesYesYesNoNo...</td>\n",
       "    </tr>\n",
       "  </tbody>\n",
       "</table>\n",
       "</div>"
      ],
      "text/plain": [
       "                    StudentID   Age  StudyHoursPerWeek  AttendanceRate  \\\n",
       "Gender Major                                                             \n",
       "Female Arts             13514  1126               1070         4151.75   \n",
       "       Business         13569  1173               1229         4458.74   \n",
       "       Education        10391   847                818         3035.39   \n",
       "       Engineering      16962  1289               1196         4640.83   \n",
       "       Science          10066   889                813         3150.28   \n",
       "Male   Arts             11946   951                881         3280.02   \n",
       "       Business         14198  1206               1130         4125.03   \n",
       "       Education        14967  1177               1212         4335.17   \n",
       "       Engineering      11902  1022                929         3632.67   \n",
       "       Science           7735   798                660         2685.31   \n",
       "\n",
       "                       GPA                                        PartTimeJob  \\\n",
       "Gender Major                                                                    \n",
       "Female Arts         163.25  YesYesNoYesNoNoNoNoNoYesYesYesYesYesYesYesYesY...   \n",
       "       Business     175.37  YesYesYesNoYesYesYesNoNoYesYesNoNoYesYesYesNoN...   \n",
       "       Education    123.70  NoYesYesYesNoNoYesYesNoYesNoYesNoYesYesNoYesNo...   \n",
       "       Engineering  174.29  YesYesNoNoYesYesYesYesNoNoYesNoNoYesNoYesNoNoY...   \n",
       "       Science      130.20  YesNoYesYesNoNoYesYesNoNoNoYesNoNoNoYesYesNoYe...   \n",
       "Male   Arts         137.46  YesNoYesNoYesNoYesNoNoNoYesNoNoYesYesYesYesNoY...   \n",
       "       Business     170.73  NoNoNoYesYesYesYesNoNoNoYesYesNoYesNoYesYesNoY...   \n",
       "       Education    161.37  YesNoNoNoNoYesNoNoNoNoYesYesYesYesYesNoYesNoYe...   \n",
       "       Engineering  149.75  YesYesNoYesYesYesYesNoNoYesNoYesNoNoNoNoYesNoY...   \n",
       "       Science      106.46  YesNoYesNoYesYesYesNoNoNoNoNoYesNoNoNoYesNoYes...   \n",
       "\n",
       "                                            ExtraCurricularActivities  \n",
       "Gender Major                                                           \n",
       "Female Arts         YesYesYesNoNoYesNoNoYesNoYesYesYesNoYesYesYesY...  \n",
       "       Business     NoYesNoNoNoNoNoNoYesNoYesNoYesNoYesNoYesNoNoNo...  \n",
       "       Education    NoNoYesNoYesNoNoYesNoYesYesNoYesYesYesNoYesNoN...  \n",
       "       Engineering  YesYesYesNoNoNoYesYesYesYesYesYesYesNoYesNoYes...  \n",
       "       Science      YesYesNoNoYesYesNoYesYesNoYesNoYesNoNoNoYesYes...  \n",
       "Male   Arts         NoNoNoYesYesYesNoNoNoYesNoYesYesNoYesNoNoNoYes...  \n",
       "       Business     NoNoNoNoNoYesYesYesYesYesNoYesYesYesYesYesYesN...  \n",
       "       Education    NoNoYesYesNoYesYesNoNoNoNoYesNoYesNoYesNoNoNoN...  \n",
       "       Engineering  NoNoNoYesYesNoYesNoNoNoYesYesNoYesNoNoNoNoNoYe...  \n",
       "       Science      NoYesYesNoNoYesYesNoYesYesNoNoYesYesYesYesNoNo...  "
      ]
     },
     "execution_count": 17,
     "metadata": {},
     "output_type": "execute_result"
    }
   ],
   "source": [
    "grouped_data = student_df.groupby([\"Gender\" ,\"Major\"]).sum()\n",
    "grouped_data\n",
    "# grouping data by gender and major using\n",
    "# https://www.geeksforgeeks.org/python-pandas-dataframe-groupby/?ref=gcse_outind"
   ]
  },
  {
   "cell_type": "code",
   "execution_count": 18,
   "metadata": {},
   "outputs": [
    {
     "data": {
      "text/html": [
       "<div>\n",
       "<style scoped>\n",
       "    .dataframe tbody tr th:only-of-type {\n",
       "        vertical-align: middle;\n",
       "    }\n",
       "\n",
       "    .dataframe tbody tr th {\n",
       "        vertical-align: top;\n",
       "    }\n",
       "\n",
       "    .dataframe thead th {\n",
       "        text-align: right;\n",
       "    }\n",
       "</style>\n",
       "<table border=\"1\" class=\"dataframe\">\n",
       "  <thead>\n",
       "    <tr style=\"text-align: right;\">\n",
       "      <th></th>\n",
       "      <th></th>\n",
       "      <th>StudentID</th>\n",
       "      <th>Age</th>\n",
       "      <th>StudyHoursPerWeek</th>\n",
       "      <th>AttendanceRate</th>\n",
       "      <th>GPA</th>\n",
       "      <th>PartTimeJob</th>\n",
       "      <th>ExtraCurricularActivities</th>\n",
       "    </tr>\n",
       "    <tr>\n",
       "      <th>Gender</th>\n",
       "      <th>Major</th>\n",
       "      <th></th>\n",
       "      <th></th>\n",
       "      <th></th>\n",
       "      <th></th>\n",
       "      <th></th>\n",
       "      <th></th>\n",
       "      <th></th>\n",
       "    </tr>\n",
       "  </thead>\n",
       "  <tbody>\n",
       "    <tr>\n",
       "      <th>Female</th>\n",
       "      <th>Business</th>\n",
       "      <td>13569</td>\n",
       "      <td>1173</td>\n",
       "      <td>1229</td>\n",
       "      <td>4458.74</td>\n",
       "      <td>175.37</td>\n",
       "      <td>YesYesYesNoYesYesYesNoNoYesYesNoNoYesYesYesNoN...</td>\n",
       "      <td>NoYesNoNoNoNoNoNoYesNoYesNoYesNoYesNoYesNoNoNo...</td>\n",
       "    </tr>\n",
       "    <tr>\n",
       "      <th>Male</th>\n",
       "      <th>Education</th>\n",
       "      <td>14967</td>\n",
       "      <td>1177</td>\n",
       "      <td>1212</td>\n",
       "      <td>4335.17</td>\n",
       "      <td>161.37</td>\n",
       "      <td>YesNoNoNoNoYesNoNoNoNoYesYesYesYesYesNoYesNoYe...</td>\n",
       "      <td>NoNoYesYesNoYesYesNoNoNoNoYesNoYesNoYesNoNoNoN...</td>\n",
       "    </tr>\n",
       "  </tbody>\n",
       "</table>\n",
       "</div>"
      ],
      "text/plain": [
       "                  StudentID   Age  StudyHoursPerWeek  AttendanceRate     GPA  \\\n",
       "Gender Major                                                                   \n",
       "Female Business       13569  1173               1229         4458.74  175.37   \n",
       "Male   Education      14967  1177               1212         4335.17  161.37   \n",
       "\n",
       "                                                        PartTimeJob  \\\n",
       "Gender Major                                                          \n",
       "Female Business   YesYesYesNoYesYesYesNoNoYesYesNoNoYesYesYesNoN...   \n",
       "Male   Education  YesNoNoNoNoYesNoNoNoNoYesYesYesYesYesNoYesNoYe...   \n",
       "\n",
       "                                          ExtraCurricularActivities  \n",
       "Gender Major                                                         \n",
       "Female Business   NoYesNoNoNoNoNoNoYesNoYesNoYesNoYesNoYesNoNoNo...  \n",
       "Male   Education  NoNoYesYesNoYesYesNoNoNoNoYesNoYesNoYesNoNoNoN...  "
      ]
     },
     "execution_count": 18,
     "metadata": {},
     "output_type": "execute_result"
    }
   ],
   "source": [
    "highest_study_hours = grouped_data.loc[grouped_data.groupby('Gender')[\"StudyHoursPerWeek\"].idxmax()]\n",
    "highest_study_hours  # finding the major with the highest total study hours per week for each gender\n",
    "# https://www.geeksforgeeks.org/pandas-groupby-one-column-and-get-mean-min-and-max-values/?ref=gcse_outind"
   ]
  },
  {
   "cell_type": "markdown",
   "metadata": {},
   "source": [
    "# b. Gender with the highest attendance rate"
   ]
  },
  {
   "cell_type": "code",
   "execution_count": 19,
   "metadata": {},
   "outputs": [
    {
     "data": {
      "text/plain": [
       "Gender\n",
       "Female    75.925742\n",
       "Male      74.009016\n",
       "Name: AttendanceRate, dtype: float64"
      ]
     },
     "execution_count": 19,
     "metadata": {},
     "output_type": "execute_result"
    }
   ],
   "source": [
    "average_attendance = student_df.groupby('Gender')['AttendanceRate'].mean()# finding the average attendance rate and grouping the data set by gender.\n",
    "average_attendance\n"
   ]
  },
  {
   "cell_type": "code",
   "execution_count": 20,
   "metadata": {},
   "outputs": [
    {
     "data": {
      "text/plain": [
       "Gender               Female\n",
       "AttendanceRate    75.925742\n",
       "Name: 0, dtype: object"
      ]
     },
     "execution_count": 20,
     "metadata": {},
     "output_type": "execute_result"
    }
   ],
   "source": [
    "# Calculating/computing the gender with the highest attendance rate\n",
    "\n",
    "average_attendance = student_df.groupby('Gender')['AttendanceRate'].mean().reset_index()\n",
    "h_attendance = average_attendance.loc[average_attendance['AttendanceRate'].idxmax()]\n",
    "h_attendance\n",
    "\n",
    "# since the females have the highest attendance average , they have the highest attendance rate."
   ]
  },
  {
   "cell_type": "markdown",
   "metadata": {},
   "source": [
    "# c. percentage of part timers"
   ]
  },
  {
   "cell_type": "code",
   "execution_count": 21,
   "metadata": {},
   "outputs": [
    {
     "data": {
      "text/plain": [
       "PartTimeJob\n",
       "Yes    53.6\n",
       "No     46.4\n",
       "Name: proportion, dtype: float64"
      ]
     },
     "execution_count": 21,
     "metadata": {},
     "output_type": "execute_result"
    }
   ],
   "source": [
    "\n",
    "part_timers_percentage = student_df['PartTimeJob'].value_counts(normalize=True)*100\n",
    "\n",
    "part_timers_percentage\n",
    "# student's percentage with part time jobs is the number of students with the yes value.\n",
    "# we multiply through by 100 to find the percentage."
   ]
  },
  {
   "cell_type": "markdown",
   "metadata": {},
   "source": [
    "# d. mean GPA for each gender and variance of the age"
   ]
  },
  {
   "cell_type": "code",
   "execution_count": 22,
   "metadata": {},
   "outputs": [
    {
     "data": {
      "text/html": [
       "<div>\n",
       "<style scoped>\n",
       "    .dataframe tbody tr th:only-of-type {\n",
       "        vertical-align: middle;\n",
       "    }\n",
       "\n",
       "    .dataframe tbody tr th {\n",
       "        vertical-align: top;\n",
       "    }\n",
       "\n",
       "    .dataframe thead th {\n",
       "        text-align: right;\n",
       "    }\n",
       "</style>\n",
       "<table border=\"1\" class=\"dataframe\">\n",
       "  <thead>\n",
       "    <tr style=\"text-align: right;\">\n",
       "      <th></th>\n",
       "      <th>Gender</th>\n",
       "      <th>mean_gpa</th>\n",
       "    </tr>\n",
       "  </thead>\n",
       "  <tbody>\n",
       "    <tr>\n",
       "      <th>0</th>\n",
       "      <td>Female</td>\n",
       "      <td>2.995352</td>\n",
       "    </tr>\n",
       "    <tr>\n",
       "      <th>1</th>\n",
       "      <td>Male</td>\n",
       "      <td>2.974467</td>\n",
       "    </tr>\n",
       "  </tbody>\n",
       "</table>\n",
       "</div>"
      ],
      "text/plain": [
       "   Gender  mean_gpa\n",
       "0  Female  2.995352\n",
       "1    Male  2.974467"
      ]
     },
     "execution_count": 22,
     "metadata": {},
     "output_type": "execute_result"
    }
   ],
   "source": [
    "gpa_stats = student_df.groupby('Gender').agg(mean_gpa=('GPA','mean')).reset_index()\n",
    "gpa_stats        # calculating the mean GPA for both males and females using the .groupby                                    "
   ]
  },
  {
   "cell_type": "code",
   "execution_count": 23,
   "metadata": {},
   "outputs": [
    {
     "data": {
      "text/html": [
       "<div>\n",
       "<style scoped>\n",
       "    .dataframe tbody tr th:only-of-type {\n",
       "        vertical-align: middle;\n",
       "    }\n",
       "\n",
       "    .dataframe tbody tr th {\n",
       "        vertical-align: top;\n",
       "    }\n",
       "\n",
       "    .dataframe thead th {\n",
       "        text-align: right;\n",
       "    }\n",
       "</style>\n",
       "<table border=\"1\" class=\"dataframe\">\n",
       "  <thead>\n",
       "    <tr style=\"text-align: right;\">\n",
       "      <th></th>\n",
       "      <th>mean_var</th>\n",
       "    </tr>\n",
       "    <tr>\n",
       "      <th>Gender</th>\n",
       "      <th></th>\n",
       "    </tr>\n",
       "  </thead>\n",
       "  <tbody>\n",
       "    <tr>\n",
       "      <th>Female</th>\n",
       "      <td>4.005637</td>\n",
       "    </tr>\n",
       "    <tr>\n",
       "      <th>Male</th>\n",
       "      <td>3.960130</td>\n",
       "    </tr>\n",
       "  </tbody>\n",
       "</table>\n",
       "</div>"
      ],
      "text/plain": [
       "        mean_var\n",
       "Gender          \n",
       "Female  4.005637\n",
       "Male    3.960130"
      ]
     },
     "execution_count": 23,
     "metadata": {},
     "output_type": "execute_result"
    }
   ],
   "source": [
    "age_stats = student_df.groupby('Gender').agg(mean_var=('Age','var'))\n",
    "age_stats # calculating the variance of the age for each gender"
   ]
  },
  {
   "cell_type": "markdown",
   "metadata": {},
   "source": [
    "# e .visualizing relationship between two variables"
   ]
  },
  {
   "cell_type": "code",
   "execution_count": 24,
   "metadata": {},
   "outputs": [
    {
     "data": {
      "image/png": "[encoded data removed]",
      "text/plain": [
       "<Figure size 640x480 with 1 Axes>"
      ]
     },
     "metadata": {},
     "output_type": "display_data"
    }
   ],
   "source": [
    "# when visualizing relationship between two variables a scatter plot is the best option to use especially when dealing with \n",
    "# dependent and independent variables .(source of idea- the linear regression notes) I choose use the attendance rate as my independent \n",
    "# variable and GPA as my dependent variable.\n",
    "plt.scatter(data=student_df, x='AttendanceRate', y='GPA', label='scatter',color='green')\n",
    "plt.title('A scatterplot visualizing the relationship between AttendanceRate and GPA')\n",
    "plt.xlabel('AttendanceRate')\n",
    "plt.ylabel('GPA')\n",
    "plt.legend()\n",
    "plt.show() # within this visualization a line of best fit can be got out which indicates linearity amongst the variables \n",
    "# http://localhost:8888/notebooks/assignment2.ipynb"
   ]
  },
  {
   "cell_type": "markdown",
   "metadata": {},
   "source": [
    "# question 3"
   ]
  },
  {
   "cell_type": "markdown",
   "metadata": {},
   "source": [
    "# a) steps involved in fitting a linear regression "
   ]
  },
  {
   "cell_type": "markdown",
   "metadata": {},
   "source": [
    "import the data set into the jupyter notebook environment select two features from the data set .This can be done using the double bracket method , iloc method or the filter method.But I prefer using the double brackect method.\n",
    " http://localhost:8888/notebooks/06.%20univariate_linear_regression.ipynb"
   ]
  },
  {
   "cell_type": "markdown",
   "metadata": {},
   "source": [
    "#initially we import the required libraries such as pandas, matpotlib and scikit-learn,pandas  for data handling, matplotlip for data visualization and scikit-learn for machine learning\n",
    "#import pandas as pd ,import matplotlib.pyplot as plt,\n",
    "#from sklearn.linear_model import LinearRegression and from sklearn.model_selection import train_test_split.these modules help us understand our models and make them accurate.\n",
    "https://www.geeksforgeeks.org/how-to-generate-feature-importance-plots-from-scikit-learn/\n",
    "#import the data set into the jupyter notebook environment \n",
    "#split the data set into the training sample and testing samples using the train_test_split.The train samples should be greater than the test samples.\n",
    "#Train the model :model = LinearRegression() , fit the model : model.fit(X_train, y_train)\n",
    "#make predictions using the trained model. y_pred = model.predict(X_test)\n",
    "#make visualizations by plotting\n",
    "#check the performance of the model using the mean squared value."
   ]
  },
  {
   "cell_type": "markdown",
   "metadata": {},
   "source": [
    "# b assumptions taken into consideration for linear regression to occur\n",
    "https://www.geeksforgeeks.org/assumptions-of-linear-regression/?ref=gcse_outind"
   ]
  },
  {
   "cell_type": "markdown",
   "metadata": {},
   "source": [
    "linearity .The relationship between the dependent variable and the independent variable should be linear.That is to say an increase in the independent variable leads to a consistent increase in the dependent variable.\n",
    "For example on hot days cold drinks are highly demanded .In this scenario the temperature is the independent variable and the cold drinks are the dependent variables. An increase in temperature leads to an increase in the demand for cold drinks and the decrease in temperature leads to a consistent decrease in the demand for the cold drinks. "
   ]
  },
  {
   "cell_type": "markdown",
   "metadata": {},
   "source": [
    "\n",
    "Homoscedasticity. The variance of errors is constant across all levels of independence variables.That is to say the difference between the observed value and the predicted value must be constant across all levels of independence variables.The difference between the highest number of cold drinks demanded and the lowest number of cold drinks demanded will be the same at all levels temperature levels. "
   ]
  },
  {
   "cell_type": "markdown",
   "metadata": {},
   "source": [
    "Normality . The errors should be normally distributed.This ensures that hypothesis test , the probability-values and the  test values are valid.Thaat is to say, the difference between the actual number and predicted number of drinks demanded for should be normally distributed. "
   ]
  },
  {
   "cell_type": "markdown",
   "metadata": {},
   "source": [
    "Independence of errors. The difference between the observed and the predicted number of drinks should not be correlated with each other.In other words the difference in one observation should not influence the difference in another observation."
   ]
  },
  {
   "cell_type": "markdown",
   "metadata": {},
   "source": [
    "No or low multicollinearity.The independent variables are not highly correlated with each other.If there is multicollinearity it can lead to over fitting where the model can perform well on training but poorly on unseen data. source code geeksfor geeks."
   ]
  },
  {
   "cell_type": "markdown",
   "metadata": {},
   "source": [
    "C "
   ]
  },
  {
   "cell_type": "code",
   "execution_count": 25,
   "metadata": {},
   "outputs": [],
   "source": [
    "import pandas as pd\n",
    "from sklearn.model_selection import train_test_split\n",
    "from sklearn.linear_model import LinearRegression\n",
    "import numpy as np\n"
   ]
  },
  {
   "cell_type": "code",
   "execution_count": 26,
   "metadata": {},
   "outputs": [
    {
     "data": {
      "text/html": [
       "<div>\n",
       "<style scoped>\n",
       "    .dataframe tbody tr th:only-of-type {\n",
       "        vertical-align: middle;\n",
       "    }\n",
       "\n",
       "    .dataframe tbody tr th {\n",
       "        vertical-align: top;\n",
       "    }\n",
       "\n",
       "    .dataframe thead th {\n",
       "        text-align: right;\n",
       "    }\n",
       "</style>\n",
       "<table border=\"1\" class=\"dataframe\">\n",
       "  <thead>\n",
       "    <tr style=\"text-align: right;\">\n",
       "      <th></th>\n",
       "      <th>Age</th>\n",
       "      <th>Sex</th>\n",
       "      <th>Marital_status</th>\n",
       "      <th>Number_of_children</th>\n",
       "      <th>Family_size</th>\n",
       "      <th>Education-degree_recode</th>\n",
       "      <th>Education-degree_recode 2</th>\n",
       "      <th>Education</th>\n",
       "      <th>Race_ethnicity-multi_recode</th>\n",
       "      <th>Immigrate-year</th>\n",
       "      <th>Birthplace_recode</th>\n",
       "      <th>Speaks_English</th>\n",
       "      <th>Employment_status</th>\n",
       "      <th>Income-wages</th>\n",
       "      <th>Region_recode</th>\n",
       "      <th>Region-division_recode</th>\n",
       "      <th>Moved</th>\n",
       "      <th>Year</th>\n",
       "      <th>state</th>\n",
       "    </tr>\n",
       "  </thead>\n",
       "  <tbody>\n",
       "    <tr>\n",
       "      <th>0</th>\n",
       "      <td>30</td>\n",
       "      <td>Male</td>\n",
       "      <td>Married, spouse present</td>\n",
       "      <td>2</td>\n",
       "      <td>4</td>\n",
       "      <td>Masterâ€™s or professional degree</td>\n",
       "      <td>Master or professional degree</td>\n",
       "      <td>Master or PhD or professional degree</td>\n",
       "      <td>Non-Hispanic White</td>\n",
       "      <td>0</td>\n",
       "      <td>U.S. state, territory, or outlying region</td>\n",
       "      <td>Yes, speaks only English</td>\n",
       "      <td>Employed</td>\n",
       "      <td>63000</td>\n",
       "      <td>South</td>\n",
       "      <td>East South Central</td>\n",
       "      <td>Same house</td>\n",
       "      <td>2020</td>\n",
       "      <td>Tennessee</td>\n",
       "    </tr>\n",
       "    <tr>\n",
       "      <th>1</th>\n",
       "      <td>28</td>\n",
       "      <td>Female</td>\n",
       "      <td>Married, spouse present</td>\n",
       "      <td>1 child present</td>\n",
       "      <td>3</td>\n",
       "      <td>Masterâ€™s or professional degree</td>\n",
       "      <td>Master or professional degree</td>\n",
       "      <td>Master or PhD or professional degree</td>\n",
       "      <td>Non-Hispanic White</td>\n",
       "      <td>0</td>\n",
       "      <td>U.S. state, territory, or outlying region</td>\n",
       "      <td>Yes, speaks only English</td>\n",
       "      <td>Employed</td>\n",
       "      <td>46000</td>\n",
       "      <td>South</td>\n",
       "      <td>East South Central</td>\n",
       "      <td>Same house</td>\n",
       "      <td>2020</td>\n",
       "      <td>Tennessee</td>\n",
       "    </tr>\n",
       "    <tr>\n",
       "      <th>2</th>\n",
       "      <td>34</td>\n",
       "      <td>Male</td>\n",
       "      <td>Married, spouse present</td>\n",
       "      <td>1 child present</td>\n",
       "      <td>3</td>\n",
       "      <td>Bachelorâ€™s degree</td>\n",
       "      <td>Bachelor degree</td>\n",
       "      <td>Associate or Bachelor degree</td>\n",
       "      <td>Non-Hispanic White</td>\n",
       "      <td>0</td>\n",
       "      <td>U.S. state, territory, or outlying region</td>\n",
       "      <td>Yes, speaks only English</td>\n",
       "      <td>Employed</td>\n",
       "      <td>45000</td>\n",
       "      <td>South</td>\n",
       "      <td>East South Central</td>\n",
       "      <td>Same house</td>\n",
       "      <td>2020</td>\n",
       "      <td>Tennessee</td>\n",
       "    </tr>\n",
       "    <tr>\n",
       "      <th>3</th>\n",
       "      <td>58</td>\n",
       "      <td>Female</td>\n",
       "      <td>Married, spouse absent</td>\n",
       "      <td>1 child present</td>\n",
       "      <td>2</td>\n",
       "      <td>1 or more years of college, no degree</td>\n",
       "      <td>1 or more years of college, no degree</td>\n",
       "      <td>1 or more years of college, no degree</td>\n",
       "      <td>Non-Hispanic White</td>\n",
       "      <td>0</td>\n",
       "      <td>U.S. state, territory, or outlying region</td>\n",
       "      <td>Yes, speaks only English</td>\n",
       "      <td>Employed</td>\n",
       "      <td>55000</td>\n",
       "      <td>South</td>\n",
       "      <td>East South Central</td>\n",
       "      <td>Same house</td>\n",
       "      <td>2020</td>\n",
       "      <td>Tennessee</td>\n",
       "    </tr>\n",
       "    <tr>\n",
       "      <th>4</th>\n",
       "      <td>39</td>\n",
       "      <td>Male</td>\n",
       "      <td>Never married/single</td>\n",
       "      <td>0 children present</td>\n",
       "      <td>1</td>\n",
       "      <td>Bachelorâ€™s degree</td>\n",
       "      <td>Bachelor degree</td>\n",
       "      <td>Associate or Bachelor degree</td>\n",
       "      <td>Non-Hispanic White</td>\n",
       "      <td>0</td>\n",
       "      <td>U.S. state, territory, or outlying region</td>\n",
       "      <td>Yes, speaks only English</td>\n",
       "      <td>Employed</td>\n",
       "      <td>12000</td>\n",
       "      <td>South</td>\n",
       "      <td>East South Central</td>\n",
       "      <td>Same house</td>\n",
       "      <td>2020</td>\n",
       "      <td>Tennessee</td>\n",
       "    </tr>\n",
       "    <tr>\n",
       "      <th>...</th>\n",
       "      <td>...</td>\n",
       "      <td>...</td>\n",
       "      <td>...</td>\n",
       "      <td>...</td>\n",
       "      <td>...</td>\n",
       "      <td>...</td>\n",
       "      <td>...</td>\n",
       "      <td>...</td>\n",
       "      <td>...</td>\n",
       "      <td>...</td>\n",
       "      <td>...</td>\n",
       "      <td>...</td>\n",
       "      <td>...</td>\n",
       "      <td>...</td>\n",
       "      <td>...</td>\n",
       "      <td>...</td>\n",
       "      <td>...</td>\n",
       "      <td>...</td>\n",
       "      <td>...</td>\n",
       "    </tr>\n",
       "    <tr>\n",
       "      <th>4360</th>\n",
       "      <td>67</td>\n",
       "      <td>Male</td>\n",
       "      <td>Married, spouse present</td>\n",
       "      <td>0 children present</td>\n",
       "      <td>2</td>\n",
       "      <td>Bachelorâ€™s degree</td>\n",
       "      <td>Bachelor degree</td>\n",
       "      <td>Associate or Bachelor degree</td>\n",
       "      <td>Non-Hispanic White</td>\n",
       "      <td>0</td>\n",
       "      <td>U.S. state, territory, or outlying region</td>\n",
       "      <td>Yes, speaks only English</td>\n",
       "      <td>Employed</td>\n",
       "      <td>40000</td>\n",
       "      <td>Midwest</td>\n",
       "      <td>West North Central</td>\n",
       "      <td>Same house</td>\n",
       "      <td>2020</td>\n",
       "      <td>North Dakota</td>\n",
       "    </tr>\n",
       "    <tr>\n",
       "      <th>4361</th>\n",
       "      <td>48</td>\n",
       "      <td>Male</td>\n",
       "      <td>Married, spouse present</td>\n",
       "      <td>4</td>\n",
       "      <td>6</td>\n",
       "      <td>Associateâ€™s degree</td>\n",
       "      <td>Associate degree</td>\n",
       "      <td>Associate or Bachelor degree</td>\n",
       "      <td>Non-Hispanic White</td>\n",
       "      <td>0</td>\n",
       "      <td>U.S. state, territory, or outlying region</td>\n",
       "      <td>Yes, speaks only English</td>\n",
       "      <td>Employed</td>\n",
       "      <td>65000</td>\n",
       "      <td>Midwest</td>\n",
       "      <td>West North Central</td>\n",
       "      <td>Same house</td>\n",
       "      <td>2020</td>\n",
       "      <td>North Dakota</td>\n",
       "    </tr>\n",
       "    <tr>\n",
       "      <th>4362</th>\n",
       "      <td>33</td>\n",
       "      <td>Male</td>\n",
       "      <td>Married, spouse absent</td>\n",
       "      <td>0 children present</td>\n",
       "      <td>1</td>\n",
       "      <td>Associateâ€™s degree</td>\n",
       "      <td>Associate degree</td>\n",
       "      <td>Associate or Bachelor degree</td>\n",
       "      <td>Non-Hispanic Black</td>\n",
       "      <td>2017</td>\n",
       "      <td>Africa</td>\n",
       "      <td>Yes, speaks very well</td>\n",
       "      <td>Employed</td>\n",
       "      <td>45000</td>\n",
       "      <td>Midwest</td>\n",
       "      <td>West North Central</td>\n",
       "      <td>Same house</td>\n",
       "      <td>2020</td>\n",
       "      <td>North Dakota</td>\n",
       "    </tr>\n",
       "    <tr>\n",
       "      <th>4363</th>\n",
       "      <td>22</td>\n",
       "      <td>Female</td>\n",
       "      <td>Never married/single</td>\n",
       "      <td>0 children present</td>\n",
       "      <td>2</td>\n",
       "      <td>1 or more years of college, no degree</td>\n",
       "      <td>1 or more years of college, no degree</td>\n",
       "      <td>1 or more years of college, no degree</td>\n",
       "      <td>Non-Hispanic White</td>\n",
       "      <td>0</td>\n",
       "      <td>U.S. state, territory, or outlying region</td>\n",
       "      <td>Yes, speaks only English</td>\n",
       "      <td>Employed</td>\n",
       "      <td>500</td>\n",
       "      <td>Midwest</td>\n",
       "      <td>West North Central</td>\n",
       "      <td>Same house</td>\n",
       "      <td>2020</td>\n",
       "      <td>North Dakota</td>\n",
       "    </tr>\n",
       "    <tr>\n",
       "      <th>4364</th>\n",
       "      <td>49</td>\n",
       "      <td>Female</td>\n",
       "      <td>Married, spouse present</td>\n",
       "      <td>2</td>\n",
       "      <td>4</td>\n",
       "      <td>Masterâ€™s or professional degree</td>\n",
       "      <td>Master or professional degree</td>\n",
       "      <td>Master or PhD or professional degree</td>\n",
       "      <td>Non-Hispanic White</td>\n",
       "      <td>0</td>\n",
       "      <td>U.S. state, territory, or outlying region</td>\n",
       "      <td>Yes, speaks only English</td>\n",
       "      <td>Employed</td>\n",
       "      <td>498000</td>\n",
       "      <td>Midwest</td>\n",
       "      <td>West North Central</td>\n",
       "      <td>Same house</td>\n",
       "      <td>2020</td>\n",
       "      <td>North Dakota</td>\n",
       "    </tr>\n",
       "  </tbody>\n",
       "</table>\n",
       "<p>4365 rows × 19 columns</p>\n",
       "</div>"
      ],
      "text/plain": [
       "      Age     Sex           Marital_status  Number_of_children  Family_size  \\\n",
       "0      30    Male  Married, spouse present                   2            4   \n",
       "1      28  Female  Married, spouse present     1 child present            3   \n",
       "2      34    Male  Married, spouse present     1 child present            3   \n",
       "3      58  Female   Married, spouse absent     1 child present            2   \n",
       "4      39    Male     Never married/single  0 children present            1   \n",
       "...   ...     ...                      ...                 ...          ...   \n",
       "4360   67    Male  Married, spouse present  0 children present            2   \n",
       "4361   48    Male  Married, spouse present                   4            6   \n",
       "4362   33    Male   Married, spouse absent  0 children present            1   \n",
       "4363   22  Female     Never married/single  0 children present            2   \n",
       "4364   49  Female  Married, spouse present                   2            4   \n",
       "\n",
       "                    Education-degree_recode  \\\n",
       "0         Masterâ€™s or professional degree   \n",
       "1         Masterâ€™s or professional degree   \n",
       "2                       Bachelorâ€™s degree   \n",
       "3     1 or more years of college, no degree   \n",
       "4                       Bachelorâ€™s degree   \n",
       "...                                     ...   \n",
       "4360                    Bachelorâ€™s degree   \n",
       "4361                   Associateâ€™s degree   \n",
       "4362                   Associateâ€™s degree   \n",
       "4363  1 or more years of college, no degree   \n",
       "4364      Masterâ€™s or professional degree   \n",
       "\n",
       "                  Education-degree_recode 2  \\\n",
       "0             Master or professional degree   \n",
       "1             Master or professional degree   \n",
       "2                           Bachelor degree   \n",
       "3     1 or more years of college, no degree   \n",
       "4                           Bachelor degree   \n",
       "...                                     ...   \n",
       "4360                        Bachelor degree   \n",
       "4361                       Associate degree   \n",
       "4362                       Associate degree   \n",
       "4363  1 or more years of college, no degree   \n",
       "4364          Master or professional degree   \n",
       "\n",
       "                                  Education Race_ethnicity-multi_recode  \\\n",
       "0      Master or PhD or professional degree          Non-Hispanic White   \n",
       "1      Master or PhD or professional degree          Non-Hispanic White   \n",
       "2              Associate or Bachelor degree          Non-Hispanic White   \n",
       "3     1 or more years of college, no degree          Non-Hispanic White   \n",
       "4              Associate or Bachelor degree          Non-Hispanic White   \n",
       "...                                     ...                         ...   \n",
       "4360           Associate or Bachelor degree          Non-Hispanic White   \n",
       "4361           Associate or Bachelor degree          Non-Hispanic White   \n",
       "4362           Associate or Bachelor degree          Non-Hispanic Black   \n",
       "4363  1 or more years of college, no degree          Non-Hispanic White   \n",
       "4364   Master or PhD or professional degree          Non-Hispanic White   \n",
       "\n",
       "      Immigrate-year                          Birthplace_recode  \\\n",
       "0                  0  U.S. state, territory, or outlying region   \n",
       "1                  0  U.S. state, territory, or outlying region   \n",
       "2                  0  U.S. state, territory, or outlying region   \n",
       "3                  0  U.S. state, territory, or outlying region   \n",
       "4                  0  U.S. state, territory, or outlying region   \n",
       "...              ...                                        ...   \n",
       "4360               0  U.S. state, territory, or outlying region   \n",
       "4361               0  U.S. state, territory, or outlying region   \n",
       "4362            2017                                     Africa   \n",
       "4363               0  U.S. state, territory, or outlying region   \n",
       "4364               0  U.S. state, territory, or outlying region   \n",
       "\n",
       "                Speaks_English Employment_status  Income-wages Region_recode  \\\n",
       "0     Yes, speaks only English          Employed         63000         South   \n",
       "1     Yes, speaks only English          Employed         46000         South   \n",
       "2     Yes, speaks only English          Employed         45000         South   \n",
       "3     Yes, speaks only English          Employed         55000         South   \n",
       "4     Yes, speaks only English          Employed         12000         South   \n",
       "...                        ...               ...           ...           ...   \n",
       "4360  Yes, speaks only English          Employed         40000       Midwest   \n",
       "4361  Yes, speaks only English          Employed         65000       Midwest   \n",
       "4362     Yes, speaks very well          Employed         45000       Midwest   \n",
       "4363  Yes, speaks only English          Employed           500       Midwest   \n",
       "4364  Yes, speaks only English          Employed        498000       Midwest   \n",
       "\n",
       "     Region-division_recode       Moved  Year         state  \n",
       "0        East South Central  Same house  2020     Tennessee  \n",
       "1        East South Central  Same house  2020     Tennessee  \n",
       "2        East South Central  Same house  2020     Tennessee  \n",
       "3        East South Central  Same house  2020     Tennessee  \n",
       "4        East South Central  Same house  2020     Tennessee  \n",
       "...                     ...         ...   ...           ...  \n",
       "4360     West North Central  Same house  2020  North Dakota  \n",
       "4361     West North Central  Same house  2020  North Dakota  \n",
       "4362     West North Central  Same house  2020  North Dakota  \n",
       "4363     West North Central  Same house  2020  North Dakota  \n",
       "4364     West North Central  Same house  2020  North Dakota  \n",
       "\n",
       "[4365 rows x 19 columns]"
      ]
     },
     "execution_count": 26,
     "metadata": {},
     "output_type": "execute_result"
    }
   ],
   "source": [
    "# importing the data set\n",
    "new_df = pd.read_excel(\"Wages 2020Census cleaned.xlsx\")\n",
    "new_df"
   ]
  },
  {
   "cell_type": "code",
   "execution_count": 27,
   "metadata": {},
   "outputs": [],
   "source": [
    "\n",
    "X = new_df['Age']  # let age be our independent variable\n",
    "y = new_df['Income-wages']  # Dependent variable"
   ]
  },
  {
   "cell_type": "code",
   "execution_count": 28,
   "metadata": {},
   "outputs": [],
   "source": [
    "# We Split our the dataset into training and testing sets.\n",
    "X_train, X_test, y_train, y_test = train_test_split(X, y, test_size=0.2, random_state=42)"
   ]
  },
  {
   "cell_type": "code",
   "execution_count": 29,
   "metadata": {},
   "outputs": [
    {
     "ename": "ValueError",
     "evalue": "Expected a 2-dimensional container but got <class 'pandas.core.series.Series'> instead. Pass a DataFrame containing a single row (i.e. single sample) or a single column (i.e. single feature) instead.",
     "output_type": "error",
     "traceback": [
      "\u001b[1;31m---------------------------------------------------------------------------\u001b[0m",
      "\u001b[1;31mValueError\u001b[0m                                Traceback (most recent call last)",
      "Cell \u001b[1;32mIn[29], line 4\u001b[0m\n\u001b[0;32m      1\u001b[0m model \u001b[38;5;241m=\u001b[39m LinearRegression()\n\u001b[0;32m      3\u001b[0m \u001b[38;5;66;03m# Train the model\u001b[39;00m\n\u001b[1;32m----> 4\u001b[0m \u001b[43mmodel\u001b[49m\u001b[38;5;241;43m.\u001b[39;49m\u001b[43mfit\u001b[49m\u001b[43m(\u001b[49m\u001b[43mX_train\u001b[49m\u001b[43m,\u001b[49m\u001b[43m \u001b[49m\u001b[43my_train\u001b[49m\u001b[43m)\u001b[49m\n",
      "File \u001b[1;32mc:\\Users\\HP\\AppData\\Local\\Programs\\Python\\Python312\\Lib\\site-packages\\sklearn\\base.py:1473\u001b[0m, in \u001b[0;36m_fit_context.<locals>.decorator.<locals>.wrapper\u001b[1;34m(estimator, *args, **kwargs)\u001b[0m\n\u001b[0;32m   1466\u001b[0m     estimator\u001b[38;5;241m.\u001b[39m_validate_params()\n\u001b[0;32m   1468\u001b[0m \u001b[38;5;28;01mwith\u001b[39;00m config_context(\n\u001b[0;32m   1469\u001b[0m     skip_parameter_validation\u001b[38;5;241m=\u001b[39m(\n\u001b[0;32m   1470\u001b[0m         prefer_skip_nested_validation \u001b[38;5;129;01mor\u001b[39;00m global_skip_validation\n\u001b[0;32m   1471\u001b[0m     )\n\u001b[0;32m   1472\u001b[0m ):\n\u001b[1;32m-> 1473\u001b[0m     \u001b[38;5;28;01mreturn\u001b[39;00m \u001b[43mfit_method\u001b[49m\u001b[43m(\u001b[49m\u001b[43mestimator\u001b[49m\u001b[43m,\u001b[49m\u001b[43m \u001b[49m\u001b[38;5;241;43m*\u001b[39;49m\u001b[43margs\u001b[49m\u001b[43m,\u001b[49m\u001b[43m \u001b[49m\u001b[38;5;241;43m*\u001b[39;49m\u001b[38;5;241;43m*\u001b[39;49m\u001b[43mkwargs\u001b[49m\u001b[43m)\u001b[49m\n",
      "File \u001b[1;32mc:\\Users\\HP\\AppData\\Local\\Programs\\Python\\Python312\\Lib\\site-packages\\sklearn\\linear_model\\_base.py:609\u001b[0m, in \u001b[0;36mLinearRegression.fit\u001b[1;34m(self, X, y, sample_weight)\u001b[0m\n\u001b[0;32m    605\u001b[0m n_jobs_ \u001b[38;5;241m=\u001b[39m \u001b[38;5;28mself\u001b[39m\u001b[38;5;241m.\u001b[39mn_jobs\n\u001b[0;32m    607\u001b[0m accept_sparse \u001b[38;5;241m=\u001b[39m \u001b[38;5;28;01mFalse\u001b[39;00m \u001b[38;5;28;01mif\u001b[39;00m \u001b[38;5;28mself\u001b[39m\u001b[38;5;241m.\u001b[39mpositive \u001b[38;5;28;01melse\u001b[39;00m [\u001b[38;5;124m\"\u001b[39m\u001b[38;5;124mcsr\u001b[39m\u001b[38;5;124m\"\u001b[39m, \u001b[38;5;124m\"\u001b[39m\u001b[38;5;124mcsc\u001b[39m\u001b[38;5;124m\"\u001b[39m, \u001b[38;5;124m\"\u001b[39m\u001b[38;5;124mcoo\u001b[39m\u001b[38;5;124m\"\u001b[39m]\n\u001b[1;32m--> 609\u001b[0m X, y \u001b[38;5;241m=\u001b[39m \u001b[38;5;28;43mself\u001b[39;49m\u001b[38;5;241;43m.\u001b[39;49m\u001b[43m_validate_data\u001b[49m\u001b[43m(\u001b[49m\n\u001b[0;32m    610\u001b[0m \u001b[43m    \u001b[49m\u001b[43mX\u001b[49m\u001b[43m,\u001b[49m\n\u001b[0;32m    611\u001b[0m \u001b[43m    \u001b[49m\u001b[43my\u001b[49m\u001b[43m,\u001b[49m\n\u001b[0;32m    612\u001b[0m \u001b[43m    \u001b[49m\u001b[43maccept_sparse\u001b[49m\u001b[38;5;241;43m=\u001b[39;49m\u001b[43maccept_sparse\u001b[49m\u001b[43m,\u001b[49m\n\u001b[0;32m    613\u001b[0m \u001b[43m    \u001b[49m\u001b[43my_numeric\u001b[49m\u001b[38;5;241;43m=\u001b[39;49m\u001b[38;5;28;43;01mTrue\u001b[39;49;00m\u001b[43m,\u001b[49m\n\u001b[0;32m    614\u001b[0m \u001b[43m    \u001b[49m\u001b[43mmulti_output\u001b[49m\u001b[38;5;241;43m=\u001b[39;49m\u001b[38;5;28;43;01mTrue\u001b[39;49;00m\u001b[43m,\u001b[49m\n\u001b[0;32m    615\u001b[0m \u001b[43m    \u001b[49m\u001b[43mforce_writeable\u001b[49m\u001b[38;5;241;43m=\u001b[39;49m\u001b[38;5;28;43;01mTrue\u001b[39;49;00m\u001b[43m,\u001b[49m\n\u001b[0;32m    616\u001b[0m \u001b[43m\u001b[49m\u001b[43m)\u001b[49m\n\u001b[0;32m    618\u001b[0m has_sw \u001b[38;5;241m=\u001b[39m sample_weight \u001b[38;5;129;01mis\u001b[39;00m \u001b[38;5;129;01mnot\u001b[39;00m \u001b[38;5;28;01mNone\u001b[39;00m\n\u001b[0;32m    619\u001b[0m \u001b[38;5;28;01mif\u001b[39;00m has_sw:\n",
      "File \u001b[1;32mc:\\Users\\HP\\AppData\\Local\\Programs\\Python\\Python312\\Lib\\site-packages\\sklearn\\base.py:650\u001b[0m, in \u001b[0;36mBaseEstimator._validate_data\u001b[1;34m(self, X, y, reset, validate_separately, cast_to_ndarray, **check_params)\u001b[0m\n\u001b[0;32m    648\u001b[0m         y \u001b[38;5;241m=\u001b[39m check_array(y, input_name\u001b[38;5;241m=\u001b[39m\u001b[38;5;124m\"\u001b[39m\u001b[38;5;124my\u001b[39m\u001b[38;5;124m\"\u001b[39m, \u001b[38;5;241m*\u001b[39m\u001b[38;5;241m*\u001b[39mcheck_y_params)\n\u001b[0;32m    649\u001b[0m     \u001b[38;5;28;01melse\u001b[39;00m:\n\u001b[1;32m--> 650\u001b[0m         X, y \u001b[38;5;241m=\u001b[39m \u001b[43mcheck_X_y\u001b[49m\u001b[43m(\u001b[49m\u001b[43mX\u001b[49m\u001b[43m,\u001b[49m\u001b[43m \u001b[49m\u001b[43my\u001b[49m\u001b[43m,\u001b[49m\u001b[43m \u001b[49m\u001b[38;5;241;43m*\u001b[39;49m\u001b[38;5;241;43m*\u001b[39;49m\u001b[43mcheck_params\u001b[49m\u001b[43m)\u001b[49m\n\u001b[0;32m    651\u001b[0m     out \u001b[38;5;241m=\u001b[39m X, y\n\u001b[0;32m    653\u001b[0m \u001b[38;5;28;01mif\u001b[39;00m \u001b[38;5;129;01mnot\u001b[39;00m no_val_X \u001b[38;5;129;01mand\u001b[39;00m check_params\u001b[38;5;241m.\u001b[39mget(\u001b[38;5;124m\"\u001b[39m\u001b[38;5;124mensure_2d\u001b[39m\u001b[38;5;124m\"\u001b[39m, \u001b[38;5;28;01mTrue\u001b[39;00m):\n",
      "File \u001b[1;32mc:\\Users\\HP\\AppData\\Local\\Programs\\Python\\Python312\\Lib\\site-packages\\sklearn\\utils\\validation.py:1301\u001b[0m, in \u001b[0;36mcheck_X_y\u001b[1;34m(X, y, accept_sparse, accept_large_sparse, dtype, order, copy, force_writeable, force_all_finite, ensure_2d, allow_nd, multi_output, ensure_min_samples, ensure_min_features, y_numeric, estimator)\u001b[0m\n\u001b[0;32m   1296\u001b[0m         estimator_name \u001b[38;5;241m=\u001b[39m _check_estimator_name(estimator)\n\u001b[0;32m   1297\u001b[0m     \u001b[38;5;28;01mraise\u001b[39;00m \u001b[38;5;167;01mValueError\u001b[39;00m(\n\u001b[0;32m   1298\u001b[0m         \u001b[38;5;124mf\u001b[39m\u001b[38;5;124m\"\u001b[39m\u001b[38;5;132;01m{\u001b[39;00mestimator_name\u001b[38;5;132;01m}\u001b[39;00m\u001b[38;5;124m requires y to be passed, but the target y is None\u001b[39m\u001b[38;5;124m\"\u001b[39m\n\u001b[0;32m   1299\u001b[0m     )\n\u001b[1;32m-> 1301\u001b[0m X \u001b[38;5;241m=\u001b[39m \u001b[43mcheck_array\u001b[49m\u001b[43m(\u001b[49m\n\u001b[0;32m   1302\u001b[0m \u001b[43m    \u001b[49m\u001b[43mX\u001b[49m\u001b[43m,\u001b[49m\n\u001b[0;32m   1303\u001b[0m \u001b[43m    \u001b[49m\u001b[43maccept_sparse\u001b[49m\u001b[38;5;241;43m=\u001b[39;49m\u001b[43maccept_sparse\u001b[49m\u001b[43m,\u001b[49m\n\u001b[0;32m   1304\u001b[0m \u001b[43m    \u001b[49m\u001b[43maccept_large_sparse\u001b[49m\u001b[38;5;241;43m=\u001b[39;49m\u001b[43maccept_large_sparse\u001b[49m\u001b[43m,\u001b[49m\n\u001b[0;32m   1305\u001b[0m \u001b[43m    \u001b[49m\u001b[43mdtype\u001b[49m\u001b[38;5;241;43m=\u001b[39;49m\u001b[43mdtype\u001b[49m\u001b[43m,\u001b[49m\n\u001b[0;32m   1306\u001b[0m \u001b[43m    \u001b[49m\u001b[43morder\u001b[49m\u001b[38;5;241;43m=\u001b[39;49m\u001b[43morder\u001b[49m\u001b[43m,\u001b[49m\n\u001b[0;32m   1307\u001b[0m \u001b[43m    \u001b[49m\u001b[43mcopy\u001b[49m\u001b[38;5;241;43m=\u001b[39;49m\u001b[43mcopy\u001b[49m\u001b[43m,\u001b[49m\n\u001b[0;32m   1308\u001b[0m \u001b[43m    \u001b[49m\u001b[43mforce_writeable\u001b[49m\u001b[38;5;241;43m=\u001b[39;49m\u001b[43mforce_writeable\u001b[49m\u001b[43m,\u001b[49m\n\u001b[0;32m   1309\u001b[0m \u001b[43m    \u001b[49m\u001b[43mforce_all_finite\u001b[49m\u001b[38;5;241;43m=\u001b[39;49m\u001b[43mforce_all_finite\u001b[49m\u001b[43m,\u001b[49m\n\u001b[0;32m   1310\u001b[0m \u001b[43m    \u001b[49m\u001b[43mensure_2d\u001b[49m\u001b[38;5;241;43m=\u001b[39;49m\u001b[43mensure_2d\u001b[49m\u001b[43m,\u001b[49m\n\u001b[0;32m   1311\u001b[0m \u001b[43m    \u001b[49m\u001b[43mallow_nd\u001b[49m\u001b[38;5;241;43m=\u001b[39;49m\u001b[43mallow_nd\u001b[49m\u001b[43m,\u001b[49m\n\u001b[0;32m   1312\u001b[0m \u001b[43m    \u001b[49m\u001b[43mensure_min_samples\u001b[49m\u001b[38;5;241;43m=\u001b[39;49m\u001b[43mensure_min_samples\u001b[49m\u001b[43m,\u001b[49m\n\u001b[0;32m   1313\u001b[0m \u001b[43m    \u001b[49m\u001b[43mensure_min_features\u001b[49m\u001b[38;5;241;43m=\u001b[39;49m\u001b[43mensure_min_features\u001b[49m\u001b[43m,\u001b[49m\n\u001b[0;32m   1314\u001b[0m \u001b[43m    \u001b[49m\u001b[43mestimator\u001b[49m\u001b[38;5;241;43m=\u001b[39;49m\u001b[43mestimator\u001b[49m\u001b[43m,\u001b[49m\n\u001b[0;32m   1315\u001b[0m \u001b[43m    \u001b[49m\u001b[43minput_name\u001b[49m\u001b[38;5;241;43m=\u001b[39;49m\u001b[38;5;124;43m\"\u001b[39;49m\u001b[38;5;124;43mX\u001b[39;49m\u001b[38;5;124;43m\"\u001b[39;49m\u001b[43m,\u001b[49m\n\u001b[0;32m   1316\u001b[0m \u001b[43m\u001b[49m\u001b[43m)\u001b[49m\n\u001b[0;32m   1318\u001b[0m y \u001b[38;5;241m=\u001b[39m _check_y(y, multi_output\u001b[38;5;241m=\u001b[39mmulti_output, y_numeric\u001b[38;5;241m=\u001b[39my_numeric, estimator\u001b[38;5;241m=\u001b[39mestimator)\n\u001b[0;32m   1320\u001b[0m check_consistent_length(X, y)\n",
      "File \u001b[1;32mc:\\Users\\HP\\AppData\\Local\\Programs\\Python\\Python312\\Lib\\site-packages\\sklearn\\utils\\validation.py:1050\u001b[0m, in \u001b[0;36mcheck_array\u001b[1;34m(array, accept_sparse, accept_large_sparse, dtype, order, copy, force_writeable, force_all_finite, ensure_2d, allow_nd, ensure_min_samples, ensure_min_features, estimator, input_name)\u001b[0m\n\u001b[0;32m   1043\u001b[0m         \u001b[38;5;28;01melse\u001b[39;00m:\n\u001b[0;32m   1044\u001b[0m             msg \u001b[38;5;241m=\u001b[39m (\n\u001b[0;32m   1045\u001b[0m                 \u001b[38;5;124mf\u001b[39m\u001b[38;5;124m\"\u001b[39m\u001b[38;5;124mExpected 2D array, got 1D array instead:\u001b[39m\u001b[38;5;130;01m\\n\u001b[39;00m\u001b[38;5;124marray=\u001b[39m\u001b[38;5;132;01m{\u001b[39;00marray\u001b[38;5;132;01m}\u001b[39;00m\u001b[38;5;124m.\u001b[39m\u001b[38;5;130;01m\\n\u001b[39;00m\u001b[38;5;124m\"\u001b[39m\n\u001b[0;32m   1046\u001b[0m                 \u001b[38;5;124m\"\u001b[39m\u001b[38;5;124mReshape your data either using array.reshape(-1, 1) if \u001b[39m\u001b[38;5;124m\"\u001b[39m\n\u001b[0;32m   1047\u001b[0m                 \u001b[38;5;124m\"\u001b[39m\u001b[38;5;124myour data has a single feature or array.reshape(1, -1) \u001b[39m\u001b[38;5;124m\"\u001b[39m\n\u001b[0;32m   1048\u001b[0m                 \u001b[38;5;124m\"\u001b[39m\u001b[38;5;124mif it contains a single sample.\u001b[39m\u001b[38;5;124m\"\u001b[39m\n\u001b[0;32m   1049\u001b[0m             )\n\u001b[1;32m-> 1050\u001b[0m         \u001b[38;5;28;01mraise\u001b[39;00m \u001b[38;5;167;01mValueError\u001b[39;00m(msg)\n\u001b[0;32m   1052\u001b[0m \u001b[38;5;28;01mif\u001b[39;00m dtype_numeric \u001b[38;5;129;01mand\u001b[39;00m \u001b[38;5;28mhasattr\u001b[39m(array\u001b[38;5;241m.\u001b[39mdtype, \u001b[38;5;124m\"\u001b[39m\u001b[38;5;124mkind\u001b[39m\u001b[38;5;124m\"\u001b[39m) \u001b[38;5;129;01mand\u001b[39;00m array\u001b[38;5;241m.\u001b[39mdtype\u001b[38;5;241m.\u001b[39mkind \u001b[38;5;129;01min\u001b[39;00m \u001b[38;5;124m\"\u001b[39m\u001b[38;5;124mUSV\u001b[39m\u001b[38;5;124m\"\u001b[39m:\n\u001b[0;32m   1053\u001b[0m     \u001b[38;5;28;01mraise\u001b[39;00m \u001b[38;5;167;01mValueError\u001b[39;00m(\n\u001b[0;32m   1054\u001b[0m         \u001b[38;5;124m\"\u001b[39m\u001b[38;5;124mdtype=\u001b[39m\u001b[38;5;124m'\u001b[39m\u001b[38;5;124mnumeric\u001b[39m\u001b[38;5;124m'\u001b[39m\u001b[38;5;124m is not compatible with arrays of bytes/strings.\u001b[39m\u001b[38;5;124m\"\u001b[39m\n\u001b[0;32m   1055\u001b[0m         \u001b[38;5;124m\"\u001b[39m\u001b[38;5;124mConvert your data to numeric values explicitly instead.\u001b[39m\u001b[38;5;124m\"\u001b[39m\n\u001b[0;32m   1056\u001b[0m     )\n",
      "\u001b[1;31mValueError\u001b[0m: Expected a 2-dimensional container but got <class 'pandas.core.series.Series'> instead. Pass a DataFrame containing a single row (i.e. single sample) or a single column (i.e. single feature) instead."
     ]
    }
   ],
   "source": [
    "model = LinearRegression()\n",
    "\n",
    "# Train the model\n",
    "model.fit(X_train, y_train)\n",
    "\n",
    "\n"
   ]
  },
  {
   "cell_type": "code",
   "execution_count": 25,
   "metadata": {},
   "outputs": [
    {
     "ename": "NameError",
     "evalue": "name 'model' is not defined",
     "output_type": "error",
     "traceback": [
      "\u001b[1;31m---------------------------------------------------------------------------\u001b[0m",
      "\u001b[1;31mNameError\u001b[0m                                 Traceback (most recent call last)",
      "Cell \u001b[1;32mIn[25], line 1\u001b[0m\n\u001b[1;32m----> 1\u001b[0m \u001b[43mmodel\u001b[49m\u001b[38;5;241m.\u001b[39mcoef_, model\u001b[38;5;241m.\u001b[39mintercept_ \u001b[38;5;66;03m# code for finding the intercept and coefficient\u001b[39;00m\n\u001b[0;32m      2\u001b[0m \u001b[38;5;66;03m#http://localhost:8888/notebooks/06.%20univariate_linear_regression.ipynb\u001b[39;00m\n",
      "\u001b[1;31mNameError\u001b[0m: name 'model' is not defined"
     ]
    }
   ],
   "source": [
    "coefficient = model.coef_\n",
    "intercept = model.intercept_\n",
    "model.coef_, model.intercept_ # code for finding the intercept and coefficient\n",
    "#http://localhost:8888/notebooks/06.%20univariate_linear_regression.ipynb"
   ]
  },
  {
   "cell_type": "code",
   "execution_count": null,
   "metadata": {},
   "outputs": [],
   "source": [
    "equation = intercept + coefficient*X"
   ]
  },
  {
   "cell_type": "markdown",
   "metadata": {},
   "source": [
    " question 4"
   ]
  },
  {
   "cell_type": "markdown",
   "metadata": {},
   "source": [
    "multiply a 5x3 matrix by a 3x2 matrix."
   ]
  },
  {
   "cell_type": "markdown",
   "metadata": {},
   "source": [
    "http://localhost:8889/notebooks/mathpractice/matrices.ipynb"
   ]
  },
  {
   "cell_type": "code",
   "execution_count": 45,
   "metadata": {},
   "outputs": [],
   "source": [
    "B = np.array([[3,4,2],[2,0,1],[4,3,7],[2,1,3],[3,1,2]])# forming the matrices.\n",
    "C = np.array([[3,1],[2,4],[3,2]])"
   ]
  },
  {
   "cell_type": "code",
   "execution_count": 46,
   "metadata": {},
   "outputs": [
    {
     "name": "stdout",
     "output_type": "stream",
     "text": [
      "[[23 23]\n",
      " [ 9  4]\n",
      " [39 30]\n",
      " [17 12]\n",
      " [17 11]]\n"
     ]
    }
   ],
   "source": [
    "Matrix_D=np.dot(B,C)\n",
    "print(Matrix_D)"
   ]
  },
  {
   "cell_type": "markdown",
   "metadata": {},
   "source": [
    "create a 3x3 identity matrix"
   ]
  },
  {
   "cell_type": "code",
   "execution_count": 47,
   "metadata": {},
   "outputs": [
    {
     "name": "stdout",
     "output_type": "stream",
     "text": [
      "[[1 0 0]\n",
      " [0 1 0]\n",
      " [0 0 1]]\n"
     ]
    }
   ],
   "source": [
    "matrix_A=np.array([[1,0,0],[0,1,0],[0,0,1]])\n",
    "print(matrix_A)"
   ]
  },
  {
   "cell_type": "markdown",
   "metadata": {},
   "source": [
    "create a vector with values ranging from 10 to 49"
   ]
  },
  {
   "cell_type": "code",
   "execution_count": 48,
   "metadata": {},
   "outputs": [
    {
     "name": "stdout",
     "output_type": "stream",
     "text": [
      "[10 11 12 13 14 15 16 17 18 19 20 21 22 23 24 25 26 27 28 29 30 31 32 33\n",
      " 34 35 36 37 38 39 40 41 42 43 44 45 46 47 48 49]\n"
     ]
    }
   ],
   "source": [
    "Vector= np.arange(10,50)\n",
    "print(Vector)"
   ]
  },
  {
   "cell_type": "markdown",
   "metadata": {},
   "source": [
    " create  a null vector of size 10"
   ]
  },
  {
   "cell_type": "code",
   "execution_count": 49,
   "metadata": {},
   "outputs": [
    {
     "name": "stdout",
     "output_type": "stream",
     "text": [
      "[0. 0. 0. 0. 0. 0. 0. 0. 0. 0.]\n"
     ]
    }
   ],
   "source": [
    "null_vector=np.zeros(10)\n",
    "print(null_vector)"
   ]
  },
  {
   "cell_type": "markdown",
   "metadata": {},
   "source": [
    " create a 3x3x3 array with random values"
   ]
  },
  {
   "cell_type": "code",
   "execution_count": 50,
   "metadata": {},
   "outputs": [],
   "source": [
    "from numpy import random"
   ]
  },
  {
   "cell_type": "code",
   "execution_count": 51,
   "metadata": {},
   "outputs": [
    {
     "name": "stdout",
     "output_type": "stream",
     "text": [
      "[[[0.02711029 0.43781008 0.67731249]\n",
      "  [0.71936235 0.65954528 0.03453464]\n",
      "  [0.95549422 0.15659099 0.83078535]]\n",
      "\n",
      " [[0.7827232  0.60112548 0.29750136]\n",
      "  [0.00149249 0.4714556  0.69517534]\n",
      "  [0.82474788 0.60887679 0.77184647]]\n",
      "\n",
      " [[0.22484627 0.31088    0.89905431]\n",
      "  [0.56410675 0.14804415 0.03594534]\n",
      "  [0.2072683  0.10638885 0.64985417]]]\n"
     ]
    }
   ],
   "source": [
    "random_array=np.random.rand(3,3,3)\n",
    "print(random_array)"
   ]
  },
  {
   "cell_type": "markdown",
   "metadata": {},
   "source": [
    "create a 5x5 matrix with values 1,2,3,4 just below the diagonal"
   ]
  },
  {
   "cell_type": "code",
   "execution_count": 52,
   "metadata": {},
   "outputs": [
    {
     "name": "stdout",
     "output_type": "stream",
     "text": [
      "[[0 0 0 0 0]\n",
      " [1 0 0 0 0]\n",
      " [0 2 0 0 0]\n",
      " [0 0 3 0 0]\n",
      " [0 0 0 4 0]]\n"
     ]
    }
   ],
   "source": [
    "matrix = np.zeros((5, 5), dtype=int)\n",
    "values = [1, 2, 3, 4]\n",
    "np.fill_diagonal(matrix[1:], values)\n",
    "print(matrix)\n"
   ]
  },
  {
   "cell_type": "markdown",
   "metadata": {},
   "source": [
    "Normalise a 5x5 random matrix"
   ]
  },
  {
   "cell_type": "code",
   "execution_count": 54,
   "metadata": {},
   "outputs": [
    {
     "name": "stdout",
     "output_type": "stream",
     "text": [
      "[[0.39003346 0.97223384 0.93311549 0.28802214 0.15781105]\n",
      " [0.60325817 0.11404688 0.58279667 0.76476094 0.91950905]\n",
      " [0.98047225 0.47224266 0.5957404  0.72428129 0.73359733]\n",
      " [0.63472009 0.41358089 0.23854645 0.36015364 0.80514982]\n",
      " [0.54270732 0.42846253 0.61320142 0.2791889  0.26829942]]\n"
     ]
    }
   ],
   "source": [
    "# Create a 5x5 matrix with random values between 0 and 1\n",
    "random_matrix = np.random.rand(5, 5)\n",
    "\n",
    "# Min-Max Normalization\n",
    "min_val = random_matrix.min()\n",
    "max_val = random_matrix.max()\n",
    "normalized_matrix_min_max = (random_matrix - min_val) / (max_val - min_val)\n",
    "print(random_matrix)\n",
    "\n"
   ]
  },
  {
   "cell_type": "markdown",
   "metadata": {},
   "source": [
    "how to get the dates of yesterday ,today and tomorrow"
   ]
  },
  {
   "cell_type": "code",
   "execution_count": 55,
   "metadata": {},
   "outputs": [
    {
     "name": "stdout",
     "output_type": "stream",
     "text": [
      "Yesterday's date: 2024-12-11\n",
      "Today's date: 2024-12-12\n",
      "Tomorrow's date: 2024-12-13\n"
     ]
    }
   ],
   "source": [
    "import datetime\n",
    "\n",
    "# Get today's date\n",
    "today = datetime.date.today()\n",
    "\n",
    "# Get yesterday's date\n",
    "yesterday = today - datetime.timedelta(days=1)\n",
    "\n",
    "# Get tomorrow's date\n",
    "tomorrow = today + datetime.timedelta(days=1)\n",
    "\n",
    "# Print the results\n",
    "print(\"Yesterday's date:\", yesterday)\n",
    "print(\"Today's date:\", today)\n",
    "print(\"Tomorrow's date:\", tomorrow)\n",
    "# https://stackoverflow.com/questions/2040560/finding-the-number-of-days-between-two-dates/31196355#31196355"
   ]
  },
  {
   "cell_type": "markdown",
   "metadata": {},
   "source": [
    "Find indices of non-zero elements from[1,2,0,0,4,0].In all the above questions explain your approach"
   ]
  },
  {
   "cell_type": "code",
   "execution_count": 57,
   "metadata": {},
   "outputs": [
    {
     "name": "stdout",
     "output_type": "stream",
     "text": [
      "Indices of non-zero elements: [0 1 4]\n"
     ]
    }
   ],
   "source": [
    "#create the list\n",
    "arr = np.array([1, 2, 0, 0, 4, 0])\n",
    "\n",
    "# Find the indices of non-zero elements\n",
    "non_zero_indices = np.nonzero(arr)\n",
    "print(\"Indices of non-zero elements:\", non_zero_indices[0])\n",
    "#https://stackoverflow.com/questions/61210587/randomly-relocate-the-selected-elements-of-a-numpy-array-according-to-a-distribu/61214054#61214054"
   ]
  },
  {
   "cell_type": "markdown",
   "metadata": {},
   "source": [
    "np.array([1, 2, 0, 0, 4, 0]): This converts the given list into a NumPy array for efficient processing. np.nonzero(arr): This  returns a tuple, where the first element contains the indices of the non-zero values in the array. For the array [1, 2, 0, 0, 4, 0], it will return (array([0, 1, 4]),), which means that the non-zero values are at indices 0, 1, and 4.\n",
    "\n",
    "explanation The array [1, 2, 0, 0, 4, 0] has non-zero elements at indices 0, 1, and 4, which is why the output is [0, 1, 4]"
   ]
  },
  {
   "cell_type": "markdown",
   "metadata": {},
   "source": []
  },
  {
   "cell_type": "markdown",
   "metadata": {},
   "source": []
  }
 ],
 "metadata": {
  "kernelspec": {
   "display_name": "Python 3",
   "language": "python",
   "name": "python3"
  },
  "language_info": {
   "codemirror_mode": {
    "name": "ipython",
    "version": 3
   },
   "file_extension": ".py",
   "mimetype": "text/x-python",
   "name": "python",
   "nbconvert_exporter": "python",
   "pygments_lexer": "ipython3",
   "version": "3.12.6"
  }
 },
 "nbformat": 4,
 "nbformat_minor": 4
}
